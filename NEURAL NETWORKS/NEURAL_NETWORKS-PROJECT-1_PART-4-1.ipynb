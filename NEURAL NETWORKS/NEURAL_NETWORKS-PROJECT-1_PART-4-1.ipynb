{
 "cells": [
  {
   "cell_type": "markdown",
   "metadata": {},
   "source": [
    "# <font style = \"color:rgb(139,0,0)\">Neural Networks : Project 1 - Part 4</font> "
   ]
  },
  {
   "cell_type": "markdown",
   "metadata": {},
   "source": [
    "• DOMAIN: Autonomous Vehicles\n",
    "• BUSINESS CONTEXT: A Recognising multi-digit numbers in photographs captured at street level is an\n",
    "important component of modern-day map making. A classic example of a corpus of such street-level\n",
    "photographs is Google’s Street View imagery composed of hundreds of millions of geo-located 360-degree\n",
    "panoramic images.\n",
    "The ability to automatically transcribe an address number from a geo-located patch of pixels and associate the\n",
    "transcribed number with a known street address helps pinpoint, with a high degree of accuracy, the location of\n",
    "the building it represents. More broadly, recognising numbers in photographs is a problem of interest to the\n",
    "optical character recognition community.\n",
    "While OCR on constrained domains like document processing is well studied, arbitrary multi-character text\n",
    "recognition in photographs is still highly challenging. This difficulty arises due to the wide variability in the\n",
    "visual appearance of text in the wild on account of a large range of fonts, colours, styles, orientations, and\n",
    "character arrangements.\n",
    "The recognition problem is further complicated by environmental factors such as lighting, shadows,\n",
    "specularity, and occlusions as well as by image acquisition factors such as resolution, motion, and focus blurs.\n",
    "In this project, we will use the dataset with images centred around a single digit (many of the images do\n",
    "contain some distractors at the sides). Although we are taking a sample of the data which is simpler, it is more\n",
    "complex than MNIST because of the distractors.\n",
    "• DATA DESCRIPTION: The SVHN is a real-world image dataset for developing machine learning and object\n",
    "recognition algorithms with the minimal requirement on data formatting but comes from a significantly harder,\n",
    "unsolved, real-world problem (recognising digits and numbers in natural scene images). SVHN is obtained from\n",
    "house numbers in Google Street View images.\n",
    "Where the labels for each of this image are the prominent number in that image i.e. 2,6,7 and 4 respectively.\n",
    "The dataset has been provided in the form of h5py files. You can read about this file format here: http://\n",
    "docs.h5py.org/en/stable/high/dataset.html\n",
    "Acknowledgement: Yuval Netzer, Tao Wang, Adam Coates, Alessandro Bissacco, Bo Wu, Andrew Y. Ng Reading\n",
    "Digits in Natural Images with Unsupervised Feature Learning NIPS Workshop on Deep Learning and\n",
    "Unsupervised Feature Learning 2011. PDF\n",
    "http://ufldl.stanford.edu/housenumbers as the URL for this site when necessary\n",
    "• PROJECT OBJECTIVE: We will build a digit classifier on the SVHN (Street View Housing Number) dataset.\n",
    "Steps and tasks: [ Total Score: 30 points]\n",
    "1. Import the data.\n",
    "2. Data pre-processing and visualisation.\n",
    "3. Design, train, tune and test a neural network image classifier.\n",
    "Hint: Use best approach to refine and tune the data or the model. Be highly experimental here to get the best accuracy out of the model.\n",
    "4. Plot the training loss, validation loss vs number of epochs and training accuracy, validation accuracy vs number of\n",
    "epochs plot and write your observations on the same."
   ]
  },
  {
   "cell_type": "code",
   "execution_count": 19,
   "metadata": {
    "ExecuteTime": {
     "end_time": "2021-05-23T11:50:17.765851Z",
     "start_time": "2021-05-23T11:50:17.747863Z"
    }
   },
   "outputs": [],
   "source": [
    "#necessary imports\n",
    "import warnings\n",
    "import os\n",
    "import pandas as pd \n",
    "import numpy as np\n",
    "import matplotlib.pyplot as plt\n",
    "%matplotlib inline\n",
    "from matplotlib import pyplot\n",
    "import seaborn as sns\n",
    "import tensorflow \n",
    "from tensorflow.keras import optimizers\n",
    "from tensorflow.keras.models import Sequential\n",
    "from tensorflow.keras.layers import Dense, Flatten\n",
    "from tensorflow.keras.utils import to_categorical\n",
    "import h5py\n",
    "warnings.filterwarnings('ignore')\n",
    "pd.options.display.max_columns = None\n",
    "pd.options.display.float_format = '{:.7f}'.format\n",
    "pd.options.display.max_rows = None"
   ]
  },
  {
   "cell_type": "markdown",
   "metadata": {
    "id": "mSnjdKmpG82x"
   },
   "source": [
    "## <font style = \"color:rgb(139,0,0)\">1 Importing the data</font> "
   ]
  },
  {
   "cell_type": "code",
   "execution_count": 20,
   "metadata": {
    "ExecuteTime": {
     "end_time": "2021-05-23T11:50:19.916469Z",
     "start_time": "2021-05-23T11:50:19.905454Z"
    },
    "colab": {
     "base_uri": "https://localhost:8080/",
     "height": 34
    },
    "executionInfo": {
     "elapsed": 3403,
     "status": "ok",
     "timestamp": 1594702754086,
     "user": {
      "displayName": "Mansoor Rahimat Khan",
      "photoUrl": "",
      "userId": "09687443316707549268"
     },
     "user_tz": -330
    },
    "id": "BApX9qgNsqV0",
    "outputId": "3b3ffde1-d393-4820-d651-1db944988bc7",
    "scrolled": true
   },
   "outputs": [
    {
     "data": {
      "text/plain": [
       "<KeysViewHDF5 ['X_test', 'X_train', 'X_val', 'y_test', 'y_train', 'y_val']>"
      ]
     },
     "execution_count": 20,
     "metadata": {},
     "output_type": "execute_result"
    }
   ],
   "source": [
    "happy = h5py.File(r'C:\\Users\\DELL\\Autonomous_Vehicles_SVHN_single_grey1.h5')\n",
    "happy.keys()"
   ]
  },
  {
   "cell_type": "markdown",
   "metadata": {
    "id": "RDORGE7AHWtV"
   },
   "source": [
    "##  <font style = \"color:rgb(139,0,0)\">2 Data pre-processing & visualisation</font> "
   ]
  },
  {
   "cell_type": "code",
   "execution_count": 21,
   "metadata": {
    "ExecuteTime": {
     "end_time": "2021-05-23T11:50:24.484310Z",
     "start_time": "2021-05-23T11:50:24.266459Z"
    },
    "id": "aKEpYZ4w2yjg"
   },
   "outputs": [],
   "source": [
    "# Loading the training set, test set and data validation set.\n",
    "X_train = happy['X_train'][:]\n",
    "y_train = happy['y_train'][:]\n",
    "X_test = happy['X_test'][:]\n",
    "y_test = happy['y_test'][:]"
   ]
  },
  {
   "cell_type": "markdown",
   "metadata": {
    "id": "ZJHUOjjM3aUH"
   },
   "source": [
    "### <font style = \"color:rgb(139,0,0)\">Example check for contents of features and labels from the images</font>  "
   ]
  },
  {
   "cell_type": "code",
   "execution_count": 22,
   "metadata": {
    "ExecuteTime": {
     "end_time": "2021-05-23T11:50:26.694142Z",
     "start_time": "2021-05-23T11:50:26.684292Z"
    },
    "colab": {
     "base_uri": "https://localhost:8080/",
     "height": 238
    },
    "executionInfo": {
     "elapsed": 2570,
     "status": "ok",
     "timestamp": 1594702775258,
     "user": {
      "displayName": "Mansoor Rahimat Khan",
      "photoUrl": "",
      "userId": "09687443316707549268"
     },
     "user_tz": -330
    },
    "id": "J4rkRt553Ipq",
    "outputId": "aaaadfa7-5cfd-4637-afd8-1460b28961c4"
   },
   "outputs": [
    {
     "data": {
      "text/plain": [
       "array([[[ 33.0704,  30.2601,  26.852 , ...,  71.4471,  58.2204,\n",
       "          42.9939],\n",
       "        [ 25.2283,  25.5533,  29.9765, ..., 113.0209, 103.3639,\n",
       "          84.2949],\n",
       "        [ 26.2775,  22.6137,  40.4763, ..., 113.3028, 121.775 ,\n",
       "         115.4228],\n",
       "        ...,\n",
       "        [ 28.5502,  36.212 ,  45.0801, ...,  24.1359,  25.0927,\n",
       "          26.0603],\n",
       "        [ 38.4352,  26.4733,  23.2717, ...,  28.1094,  29.4683,\n",
       "          30.0661],\n",
       "        [ 50.2984,  26.0773,  24.0389, ...,  49.6682,  50.853 ,\n",
       "          53.0377]]], dtype=float32)"
      ]
     },
     "execution_count": 22,
     "metadata": {},
     "output_type": "execute_result"
    }
   ],
   "source": [
    "X_train[:1]    "
   ]
  },
  {
   "cell_type": "code",
   "execution_count": 23,
   "metadata": {
    "ExecuteTime": {
     "end_time": "2021-05-23T11:50:34.159007Z",
     "start_time": "2021-05-23T11:50:34.137002Z"
    },
    "colab": {
     "base_uri": "https://localhost:8080/",
     "height": 34
    },
    "executionInfo": {
     "elapsed": 1917,
     "status": "ok",
     "timestamp": 1594702777710,
     "user": {
      "displayName": "Mansoor Rahimat Khan",
      "photoUrl": "",
      "userId": "09687443316707549268"
     },
     "user_tz": -330
    },
    "id": "prCBSrZg3SFQ",
    "outputId": "2a4184bb-261f-4a96-e5a4-086ce2992e14"
   },
   "outputs": [
    {
     "data": {
      "text/plain": [
       "array([2], dtype=uint8)"
      ]
     },
     "execution_count": 23,
     "metadata": {},
     "output_type": "execute_result"
    }
   ],
   "source": [
    "y_train[:1]"
   ]
  },
  {
   "cell_type": "code",
   "execution_count": 24,
   "metadata": {
    "ExecuteTime": {
     "end_time": "2021-05-23T11:50:37.171423Z",
     "start_time": "2021-05-23T11:50:37.151456Z"
    },
    "colab": {
     "base_uri": "https://localhost:8080/",
     "height": 238
    },
    "executionInfo": {
     "elapsed": 647,
     "status": "ok",
     "timestamp": 1594702779453,
     "user": {
      "displayName": "Mansoor Rahimat Khan",
      "photoUrl": "",
      "userId": "09687443316707549268"
     },
     "user_tz": -330
    },
    "id": "kHhJ7jTd3mKk",
    "outputId": "9cda4a46-1457-4e3e-855e-c8eea1335c1a"
   },
   "outputs": [
    {
     "data": {
      "text/plain": [
       "array([[[ 40.558 ,  46.7917,  48.9764, ..., 112.1153, 112.9904,\n",
       "         112.1646],\n",
       "        [ 39.4379,  44.2911,  47.1768, ..., 111.0122, 110.9475,\n",
       "         109.9368],\n",
       "        [ 38.4488,  43.6394,  48.7098, ..., 109.8921, 109.9414,\n",
       "         109.1048],\n",
       "        ...,\n",
       "        [ 34.9869,  35.4707,  39.6676, ..., 109.211 , 109.9074,\n",
       "         112.7346],\n",
       "        [ 35.6602,  35.5462,  40.3193, ..., 110.9998, 112.049 ,\n",
       "         114.3431],\n",
       "        [ 36.1871,  35.4214,  40.6998, ..., 110.0169, 111.2017,\n",
       "         114.1906]]], dtype=float32)"
      ]
     },
     "execution_count": 24,
     "metadata": {},
     "output_type": "execute_result"
    }
   ],
   "source": [
    "X_test[:1]"
   ]
  },
  {
   "cell_type": "code",
   "execution_count": 25,
   "metadata": {
    "ExecuteTime": {
     "end_time": "2021-05-23T11:50:39.524653Z",
     "start_time": "2021-05-23T11:50:39.516661Z"
    },
    "colab": {
     "base_uri": "https://localhost:8080/",
     "height": 34
    },
    "executionInfo": {
     "elapsed": 971,
     "status": "ok",
     "timestamp": 1594702780995,
     "user": {
      "displayName": "Mansoor Rahimat Khan",
      "photoUrl": "",
      "userId": "09687443316707549268"
     },
     "user_tz": -330
    },
    "id": "Qr4Nz_v03nm-",
    "outputId": "279d78af-4cfe-4024-c1cb-a8a9a7f68563"
   },
   "outputs": [
    {
     "data": {
      "text/plain": [
       "array([1], dtype=uint8)"
      ]
     },
     "execution_count": 25,
     "metadata": {},
     "output_type": "execute_result"
    }
   ],
   "source": [
    "y_test[:1]"
   ]
  },
  {
   "cell_type": "markdown",
   "metadata": {
    "id": "kxODV6HKykuc"
   },
   "source": [
    "### <font style = \"color:rgb(139,0,0)\">  Visualising the first 10 images in the dataset.</font> "
   ]
  },
  {
   "cell_type": "code",
   "execution_count": 26,
   "metadata": {
    "ExecuteTime": {
     "end_time": "2021-05-23T11:50:43.206442Z",
     "start_time": "2021-05-23T11:50:42.643788Z"
    },
    "colab": {
     "base_uri": "https://localhost:8080/",
     "height": 95
    },
    "executionInfo": {
     "elapsed": 1793,
     "status": "ok",
     "timestamp": 1594702784484,
     "user": {
      "displayName": "Mansoor Rahimat Khan",
      "photoUrl": "",
      "userId": "09687443316707549268"
     },
     "user_tz": -330
    },
    "id": "Bvsc8ytHsqWD",
    "outputId": "f1d9ec70-f209-4fcb-cbd8-bab83c91baf9"
   },
   "outputs": [
    {
     "data": {
      "image/png": "[encoded data removed]",
      "text/plain": [
       "<Figure size 720x72 with 10 Axes>"
      ]
     },
     "metadata": {
      "needs_background": "light"
     },
     "output_type": "display_data"
    },
    {
     "name": "stdout",
     "output_type": "stream",
     "text": [
      "label for each of the above image: [2 6 7 4 4 0 3 0 7 3]\n"
     ]
    }
   ],
   "source": [
    "# visualizing the first 10 images in the dataset and their labels.\n",
    "%matplotlib inline\n",
    "import matplotlib.pyplot as plt\n",
    "plt.figure(figsize=(10, 1))\n",
    "for i in range(10):\n",
    "    plt.subplot(1, 10, i+1)\n",
    "    plt.imshow(X_train[i], cmap=\"gray\")\n",
    "    plt.axis('off')\n",
    "plt.show()\n",
    "print('label for each of the above image: %s' % (y_train[0:10]))"
   ]
  },
  {
   "cell_type": "markdown",
   "metadata": {
    "id": "y1ZC0x0I3-jo"
   },
   "source": [
    "#### data shape"
   ]
  },
  {
   "cell_type": "code",
   "execution_count": 27,
   "metadata": {
    "ExecuteTime": {
     "end_time": "2021-05-23T11:52:01.972057Z",
     "start_time": "2021-05-23T11:52:01.966062Z"
    },
    "colab": {
     "base_uri": "https://localhost:8080/",
     "height": 34
    },
    "executionInfo": {
     "elapsed": 626,
     "status": "ok",
     "timestamp": 1594702786013,
     "user": {
      "displayName": "Mansoor Rahimat Khan",
      "photoUrl": "",
      "userId": "09687443316707549268"
     },
     "user_tz": -330
    },
    "id": "Ju4-rQ9y39RW",
    "outputId": "2fd5edaf-d358-4bb0-a4bb-f246aacddba4"
   },
   "outputs": [
    {
     "data": {
      "text/plain": [
       "(42000, 32, 32)"
      ]
     },
     "execution_count": 27,
     "metadata": {},
     "output_type": "execute_result"
    }
   ],
   "source": [
    "X_train.shape"
   ]
  },
  {
   "cell_type": "code",
   "execution_count": 28,
   "metadata": {
    "ExecuteTime": {
     "end_time": "2021-05-23T11:52:02.940030Z",
     "start_time": "2021-05-23T11:52:02.929034Z"
    },
    "colab": {
     "base_uri": "https://localhost:8080/",
     "height": 34
    },
    "executionInfo": {
     "elapsed": 1127,
     "status": "ok",
     "timestamp": 1594702794623,
     "user": {
      "displayName": "Mansoor Rahimat Khan",
      "photoUrl": "",
      "userId": "09687443316707549268"
     },
     "user_tz": -330
    },
    "id": "V_3SxY7O4DJB",
    "outputId": "d2ca3706-af8a-4851-9b8a-b89469ed2734"
   },
   "outputs": [
    {
     "data": {
      "text/plain": [
       "(42000,)"
      ]
     },
     "execution_count": 28,
     "metadata": {},
     "output_type": "execute_result"
    }
   ],
   "source": [
    "y_train.shape"
   ]
  },
  {
   "cell_type": "markdown",
   "metadata": {
    "id": "kzoyeXHOy80N"
   },
   "source": [
    "Reshaping the X_train and X_test so that the same can be fed for model building. \n",
    "Feeding a 2D tensor into the model as currently I have a 3D tensor. \n",
    "\n",
    "### normalizing the data\n",
    "Dividing by 255 as this is a grayscale image and can take values from 0-255.\n"
   ]
  },
  {
   "cell_type": "code",
   "execution_count": 29,
   "metadata": {
    "ExecuteTime": {
     "end_time": "2021-05-23T11:52:06.195525Z",
     "start_time": "2021-05-23T11:52:06.009653Z"
    },
    "colab": {
     "base_uri": "https://localhost:8080/",
     "height": 51
    },
    "executionInfo": {
     "elapsed": 1130,
     "status": "ok",
     "timestamp": 1594702797844,
     "user": {
      "displayName": "Mansoor Rahimat Khan",
      "photoUrl": "",
      "userId": "09687443316707549268"
     },
     "user_tz": -330
    },
    "id": "D9YPwf9ysqWU",
    "outputId": "97bdd32f-b1b5-4665-a5d4-1deede26b09b"
   },
   "outputs": [
    {
     "name": "stdout",
     "output_type": "stream",
     "text": [
      "Resized Training set (42000, 1024, 1) (42000,)\n",
      "Resized Test set (18000, 1024, 1) (18000,)\n"
     ]
    }
   ],
   "source": [
    "X_train = X_train.reshape(X_train.shape[0], 1024, 1)\n",
    "X_test = X_test.reshape(X_test.shape[0], 1024, 1)\n",
    "X_train = X_train / 255.0\n",
    "X_test = X_test / 255.0\n",
    "print('Resized Training set', X_train.shape, y_train.shape)\n",
    "print('Resized Test set', X_test.shape, y_test.shape)"
   ]
  },
  {
   "cell_type": "markdown",
   "metadata": {
    "id": "bogxx3cezol1"
   },
   "source": [
    "### Here we need to apply one hot encoding of the labels for the model to understand the labels better. Using categorical cross entropy as our loss function. "
   ]
  },
  {
   "cell_type": "code",
   "execution_count": 30,
   "metadata": {
    "ExecuteTime": {
     "end_time": "2021-05-23T11:52:16.043169Z",
     "start_time": "2021-05-23T11:52:16.022206Z"
    },
    "colab": {
     "base_uri": "https://localhost:8080/",
     "height": 34
    },
    "executionInfo": {
     "elapsed": 768,
     "status": "ok",
     "timestamp": 1594702806744,
     "user": {
      "displayName": "Mansoor Rahimat Khan",
      "photoUrl": "",
      "userId": "09687443316707549268"
     },
     "user_tz": -330
    },
    "id": "zL0lYER4sqWw",
    "outputId": "709ec463-50ea-4e2a-a34a-1bd5131fe85e"
   },
   "outputs": [
    {
     "name": "stdout",
     "output_type": "stream",
     "text": [
      "The number of classes in this dataset are: 10\n"
     ]
    }
   ],
   "source": [
    "# Outputs of one-hot encoding\n",
    "y_train = to_categorical(y_train)\n",
    "y_test = to_categorical(y_test)\n",
    "# total classes\n",
    "num_classes = y_test.shape[1] \n",
    "print(\"The number of classes in this dataset are:\",num_classes)"
   ]
  },
  {
   "cell_type": "markdown",
   "metadata": {
    "id": "xztigzzfITt-"
   },
   "source": [
    "## <font style = \"color:rgb(139,0,0)\">3 Design, train, tune and test a neural network image classifier.</font> "
   ]
  },
  {
   "cell_type": "markdown",
   "metadata": {
    "id": "UJDUoaEj1d6e"
   },
   "source": [
    "#### Building the neural network model, fitting the training data, testing it and providing a model summary. "
   ]
  },
  {
   "cell_type": "code",
   "execution_count": 31,
   "metadata": {
    "ExecuteTime": {
     "end_time": "2021-05-23T11:53:07.480984Z",
     "start_time": "2021-05-23T11:53:07.469992Z"
    },
    "id": "Cmi81Gr5sqW-"
   },
   "outputs": [],
   "source": [
    "# creating the model\n",
    "def nn_mod():\n",
    "    model = Sequential()  \n",
    "    model.add(Flatten())\n",
    "    model.add(Dense(256, activation='relu')) \n",
    "    model.add(Dense(64, activation='relu'))\n",
    "    model.add(Dense(64, activation='relu'))\n",
    "    model.add(Dense(32, activation='relu'))\n",
    "    model.add(Dense(num_classes, activation='softmax'))\n",
    "    return model"
   ]
  },
  {
   "cell_type": "markdown",
   "metadata": {
    "id": "QbGCdivk6gM7"
   },
   "source": [
    "### Creating an object for model"
   ]
  },
  {
   "cell_type": "code",
   "execution_count": 32,
   "metadata": {
    "ExecuteTime": {
     "end_time": "2021-05-23T11:53:11.145569Z",
     "start_time": "2021-05-23T11:53:11.124561Z"
    },
    "id": "geazN4wi6Y84"
   },
   "outputs": [],
   "source": [
    "model = nn_mod()"
   ]
  },
  {
   "cell_type": "code",
   "execution_count": 33,
   "metadata": {
    "ExecuteTime": {
     "end_time": "2021-05-23T11:53:12.529758Z",
     "start_time": "2021-05-23T11:53:12.511768Z"
    },
    "id": "Mfh8tFcB7oj4"
   },
   "outputs": [],
   "source": [
    "# Compiling the model\n",
    "sgd = optimizers.Adam(lr=1e-3)\n",
    "model.compile(loss='categorical_crossentropy', optimizer=sgd, metrics=['accuracy'])"
   ]
  },
  {
   "cell_type": "markdown",
   "metadata": {
    "id": "5t90ufg46jLl"
   },
   "source": [
    "### fitting the model on training dataset"
   ]
  },
  {
   "cell_type": "code",
   "execution_count": 36,
   "metadata": {
    "ExecuteTime": {
     "end_time": "2021-05-23T12:21:11.297732Z",
     "start_time": "2021-05-23T12:17:35.611689Z"
    },
    "colab": {
     "base_uri": "https://localhost:8080/",
     "height": 1000
    },
    "executionInfo": {
     "elapsed": 61886,
     "status": "ok",
     "timestamp": 1594702890577,
     "user": {
      "displayName": "Mansoor Rahimat Khan",
      "photoUrl": "",
      "userId": "09687443316707549268"
     },
     "user_tz": -330
    },
    "id": "It28yqDu6dLW",
    "outputId": "de217ea1-61e7-4966-ad61-69704e2b5c51"
   },
   "outputs": [
    {
     "name": "stdout",
     "output_type": "stream",
     "text": [
      "Epoch 1/150\n",
      "120/120 - 2s - loss: 0.2409 - accuracy: 0.9220 - val_loss: 0.8084 - val_accuracy: 0.8206\n",
      "Epoch 2/150\n",
      "120/120 - 1s - loss: 0.2351 - accuracy: 0.9240 - val_loss: 0.8202 - val_accuracy: 0.8193\n",
      "Epoch 3/150\n",
      "120/120 - 1s - loss: 0.2336 - accuracy: 0.9242 - val_loss: 0.8583 - val_accuracy: 0.8166\n",
      "Epoch 4/150\n",
      "120/120 - 1s - loss: 0.2389 - accuracy: 0.9217 - val_loss: 0.8422 - val_accuracy: 0.8161\n",
      "Epoch 5/150\n",
      "120/120 - 1s - loss: 0.2330 - accuracy: 0.9248 - val_loss: 0.8369 - val_accuracy: 0.8194\n",
      "Epoch 6/150\n",
      "120/120 - 1s - loss: 0.2296 - accuracy: 0.9257 - val_loss: 0.8250 - val_accuracy: 0.8193\n",
      "Epoch 7/150\n",
      "120/120 - 1s - loss: 0.2413 - accuracy: 0.9212 - val_loss: 0.8405 - val_accuracy: 0.8209\n",
      "Epoch 8/150\n",
      "120/120 - 1s - loss: 0.2357 - accuracy: 0.9239 - val_loss: 0.8653 - val_accuracy: 0.8182\n",
      "Epoch 9/150\n",
      "120/120 - 2s - loss: 0.2416 - accuracy: 0.9199 - val_loss: 0.8524 - val_accuracy: 0.8117\n",
      "Epoch 10/150\n",
      "120/120 - 1s - loss: 0.2461 - accuracy: 0.9198 - val_loss: 0.8482 - val_accuracy: 0.8143\n",
      "Epoch 11/150\n",
      "120/120 - 1s - loss: 0.2341 - accuracy: 0.9227 - val_loss: 0.8599 - val_accuracy: 0.8148\n",
      "Epoch 12/150\n",
      "120/120 - 1s - loss: 0.2480 - accuracy: 0.9184 - val_loss: 0.8610 - val_accuracy: 0.8150\n",
      "Epoch 13/150\n",
      "120/120 - 1s - loss: 0.2424 - accuracy: 0.9202 - val_loss: 0.8546 - val_accuracy: 0.8164\n",
      "Epoch 14/150\n",
      "120/120 - 1s - loss: 0.2322 - accuracy: 0.9249 - val_loss: 0.8465 - val_accuracy: 0.8162\n",
      "Epoch 15/150\n",
      "120/120 - 1s - loss: 0.2427 - accuracy: 0.9215 - val_loss: 0.8425 - val_accuracy: 0.8124\n",
      "Epoch 16/150\n",
      "120/120 - 1s - loss: 0.2370 - accuracy: 0.9234 - val_loss: 0.8641 - val_accuracy: 0.8196\n",
      "Epoch 17/150\n",
      "120/120 - 1s - loss: 0.2454 - accuracy: 0.9194 - val_loss: 0.8907 - val_accuracy: 0.8047\n",
      "Epoch 18/150\n",
      "120/120 - 1s - loss: 0.2465 - accuracy: 0.9182 - val_loss: 0.8782 - val_accuracy: 0.8166\n",
      "Epoch 19/150\n",
      "120/120 - 1s - loss: 0.2351 - accuracy: 0.9239 - val_loss: 0.8446 - val_accuracy: 0.8212\n",
      "Epoch 20/150\n",
      "120/120 - 1s - loss: 0.2424 - accuracy: 0.9207 - val_loss: 0.8782 - val_accuracy: 0.8166\n",
      "Epoch 21/150\n",
      "120/120 - 1s - loss: 0.2396 - accuracy: 0.9214 - val_loss: 0.8610 - val_accuracy: 0.8129\n",
      "Epoch 22/150\n",
      "120/120 - 1s - loss: 0.2417 - accuracy: 0.9207 - val_loss: 0.8541 - val_accuracy: 0.8177\n",
      "Epoch 23/150\n",
      "120/120 - 1s - loss: 0.2407 - accuracy: 0.9218 - val_loss: 0.8770 - val_accuracy: 0.8146\n",
      "Epoch 24/150\n",
      "120/120 - 1s - loss: 0.2506 - accuracy: 0.9183 - val_loss: 0.8651 - val_accuracy: 0.8142\n",
      "Epoch 25/150\n",
      "120/120 - 1s - loss: 0.2337 - accuracy: 0.9236 - val_loss: 0.8613 - val_accuracy: 0.8168\n",
      "Epoch 26/150\n",
      "120/120 - 1s - loss: 0.2392 - accuracy: 0.9220 - val_loss: 0.8776 - val_accuracy: 0.8149\n",
      "Epoch 27/150\n",
      "120/120 - 1s - loss: 0.2388 - accuracy: 0.9218 - val_loss: 0.8716 - val_accuracy: 0.8134\n",
      "Epoch 28/150\n",
      "120/120 - 1s - loss: 0.2236 - accuracy: 0.9270 - val_loss: 0.8729 - val_accuracy: 0.8152\n",
      "Epoch 29/150\n",
      "120/120 - 1s - loss: 0.2430 - accuracy: 0.9199 - val_loss: 0.9181 - val_accuracy: 0.8087\n",
      "Epoch 30/150\n",
      "120/120 - 1s - loss: 0.2362 - accuracy: 0.9224 - val_loss: 0.8790 - val_accuracy: 0.8183\n",
      "Epoch 31/150\n",
      "120/120 - 1s - loss: 0.2329 - accuracy: 0.9218 - val_loss: 0.9222 - val_accuracy: 0.8086\n",
      "Epoch 32/150\n",
      "120/120 - 1s - loss: 0.2289 - accuracy: 0.9241 - val_loss: 0.8801 - val_accuracy: 0.8184\n",
      "Epoch 33/150\n",
      "120/120 - 1s - loss: 0.2397 - accuracy: 0.9201 - val_loss: 0.9018 - val_accuracy: 0.8137\n",
      "Epoch 34/150\n",
      "120/120 - 1s - loss: 0.2337 - accuracy: 0.9220 - val_loss: 0.8873 - val_accuracy: 0.8187\n",
      "Epoch 35/150\n",
      "120/120 - 1s - loss: 0.2371 - accuracy: 0.9207 - val_loss: 0.8773 - val_accuracy: 0.8109\n",
      "Epoch 36/150\n",
      "120/120 - 1s - loss: 0.2368 - accuracy: 0.9223 - val_loss: 0.8967 - val_accuracy: 0.8152\n",
      "Epoch 37/150\n",
      "120/120 - 1s - loss: 0.2301 - accuracy: 0.9233 - val_loss: 0.8858 - val_accuracy: 0.8127\n",
      "Epoch 38/150\n",
      "120/120 - 1s - loss: 0.2233 - accuracy: 0.9272 - val_loss: 0.9167 - val_accuracy: 0.8087\n",
      "Epoch 39/150\n",
      "120/120 - 1s - loss: 0.2360 - accuracy: 0.9215 - val_loss: 0.8908 - val_accuracy: 0.8163\n",
      "Epoch 40/150\n",
      "120/120 - 1s - loss: 0.2206 - accuracy: 0.9295 - val_loss: 0.9343 - val_accuracy: 0.8113\n",
      "Epoch 41/150\n",
      "120/120 - 1s - loss: 0.2360 - accuracy: 0.9227 - val_loss: 0.9023 - val_accuracy: 0.8153\n",
      "Epoch 42/150\n",
      "120/120 - 1s - loss: 0.2265 - accuracy: 0.9269 - val_loss: 0.8827 - val_accuracy: 0.8175\n",
      "Epoch 43/150\n",
      "120/120 - 1s - loss: 0.2235 - accuracy: 0.9263 - val_loss: 0.9224 - val_accuracy: 0.8106\n",
      "Epoch 44/150\n",
      "120/120 - 1s - loss: 0.2300 - accuracy: 0.9227 - val_loss: 0.9135 - val_accuracy: 0.8115\n",
      "Epoch 45/150\n",
      "120/120 - 1s - loss: 0.2360 - accuracy: 0.9221 - val_loss: 0.9019 - val_accuracy: 0.8127\n",
      "Epoch 46/150\n",
      "120/120 - 1s - loss: 0.2225 - accuracy: 0.9270 - val_loss: 0.9085 - val_accuracy: 0.8149\n",
      "Epoch 47/150\n",
      "120/120 - 1s - loss: 0.2208 - accuracy: 0.9285 - val_loss: 0.9224 - val_accuracy: 0.8103\n",
      "Epoch 48/150\n",
      "120/120 - 1s - loss: 0.2263 - accuracy: 0.9249 - val_loss: 0.8928 - val_accuracy: 0.8189\n",
      "Epoch 49/150\n",
      "120/120 - 1s - loss: 0.2200 - accuracy: 0.9282 - val_loss: 0.9178 - val_accuracy: 0.8123\n",
      "Epoch 50/150\n",
      "120/120 - 1s - loss: 0.2271 - accuracy: 0.9250 - val_loss: 0.9320 - val_accuracy: 0.8099\n",
      "Epoch 51/150\n",
      "120/120 - 1s - loss: 0.2279 - accuracy: 0.9258 - val_loss: 0.9231 - val_accuracy: 0.8112\n",
      "Epoch 52/150\n",
      "120/120 - 1s - loss: 0.2261 - accuracy: 0.9258 - val_loss: 0.9189 - val_accuracy: 0.8177\n",
      "Epoch 53/150\n",
      "120/120 - 1s - loss: 0.2236 - accuracy: 0.9261 - val_loss: 0.9292 - val_accuracy: 0.8107\n",
      "Epoch 54/150\n",
      "120/120 - 1s - loss: 0.2137 - accuracy: 0.9300 - val_loss: 0.9249 - val_accuracy: 0.8172\n",
      "Epoch 55/150\n",
      "120/120 - 1s - loss: 0.2244 - accuracy: 0.9255 - val_loss: 0.9409 - val_accuracy: 0.8124\n",
      "Epoch 56/150\n",
      "120/120 - 1s - loss: 0.2216 - accuracy: 0.9289 - val_loss: 0.9556 - val_accuracy: 0.8064\n",
      "Epoch 57/150\n",
      "120/120 - 1s - loss: 0.2289 - accuracy: 0.9244 - val_loss: 0.8976 - val_accuracy: 0.8164\n",
      "Epoch 58/150\n",
      "120/120 - 1s - loss: 0.2244 - accuracy: 0.9260 - val_loss: 0.9191 - val_accuracy: 0.8155\n",
      "Epoch 59/150\n",
      "120/120 - 1s - loss: 0.2156 - accuracy: 0.9291 - val_loss: 0.9046 - val_accuracy: 0.8125\n",
      "Epoch 60/150\n",
      "120/120 - 1s - loss: 0.2138 - accuracy: 0.9304 - val_loss: 0.9348 - val_accuracy: 0.8122\n",
      "Epoch 61/150\n",
      "120/120 - 1s - loss: 0.2191 - accuracy: 0.9279 - val_loss: 0.9201 - val_accuracy: 0.8145\n",
      "Epoch 62/150\n",
      "120/120 - 1s - loss: 0.2289 - accuracy: 0.9242 - val_loss: 0.9372 - val_accuracy: 0.8173\n",
      "Epoch 63/150\n",
      "120/120 - 2s - loss: 0.2372 - accuracy: 0.9217 - val_loss: 0.9496 - val_accuracy: 0.8089\n",
      "Epoch 64/150\n",
      "120/120 - 2s - loss: 0.2236 - accuracy: 0.9263 - val_loss: 0.9487 - val_accuracy: 0.8098\n",
      "Epoch 65/150\n",
      "120/120 - 2s - loss: 0.2237 - accuracy: 0.9256 - val_loss: 0.9192 - val_accuracy: 0.8131\n",
      "Epoch 66/150\n",
      "120/120 - 2s - loss: 0.2128 - accuracy: 0.9303 - val_loss: 0.9513 - val_accuracy: 0.8100\n",
      "Epoch 67/150\n",
      "120/120 - 1s - loss: 0.2156 - accuracy: 0.9284 - val_loss: 0.9239 - val_accuracy: 0.8163\n",
      "Epoch 68/150\n",
      "120/120 - 1s - loss: 0.2158 - accuracy: 0.9290 - val_loss: 0.9440 - val_accuracy: 0.8156\n",
      "Epoch 69/150\n",
      "120/120 - 1s - loss: 0.2041 - accuracy: 0.9340 - val_loss: 0.9590 - val_accuracy: 0.8161\n",
      "Epoch 70/150\n",
      "120/120 - 1s - loss: 0.2166 - accuracy: 0.9262 - val_loss: 0.9487 - val_accuracy: 0.8146\n",
      "Epoch 71/150\n",
      "120/120 - 1s - loss: 0.2152 - accuracy: 0.9286 - val_loss: 0.9589 - val_accuracy: 0.8106\n",
      "Epoch 72/150\n",
      "120/120 - 1s - loss: 0.2090 - accuracy: 0.9307 - val_loss: 0.9339 - val_accuracy: 0.8125\n",
      "Epoch 73/150\n",
      "120/120 - 1s - loss: 0.2120 - accuracy: 0.9300 - val_loss: 0.9412 - val_accuracy: 0.8119\n",
      "Epoch 74/150\n",
      "120/120 - 1s - loss: 0.2113 - accuracy: 0.9307 - val_loss: 0.9567 - val_accuracy: 0.8158\n",
      "Epoch 75/150\n",
      "120/120 - 1s - loss: 0.2251 - accuracy: 0.9249 - val_loss: 0.9630 - val_accuracy: 0.8156\n",
      "Epoch 76/150\n",
      "120/120 - 1s - loss: 0.2118 - accuracy: 0.9302 - val_loss: 0.9784 - val_accuracy: 0.8090\n",
      "Epoch 77/150\n",
      "120/120 - 1s - loss: 0.2081 - accuracy: 0.9304 - val_loss: 0.9620 - val_accuracy: 0.8152\n",
      "Epoch 78/150\n",
      "120/120 - 1s - loss: 0.2145 - accuracy: 0.9280 - val_loss: 0.9745 - val_accuracy: 0.8051\n",
      "Epoch 79/150\n",
      "120/120 - 1s - loss: 0.2287 - accuracy: 0.9234 - val_loss: 0.9856 - val_accuracy: 0.8093\n",
      "Epoch 80/150\n",
      "120/120 - 1s - loss: 0.2287 - accuracy: 0.9236 - val_loss: 0.9401 - val_accuracy: 0.8128\n",
      "Epoch 81/150\n",
      "120/120 - 1s - loss: 0.2151 - accuracy: 0.9280 - val_loss: 0.9516 - val_accuracy: 0.8119\n"
     ]
    },
    {
     "name": "stdout",
     "output_type": "stream",
     "text": [
      "Epoch 82/150\n",
      "120/120 - 1s - loss: 0.2032 - accuracy: 0.9326 - val_loss: 0.9701 - val_accuracy: 0.8126\n",
      "Epoch 83/150\n",
      "120/120 - 1s - loss: 0.2225 - accuracy: 0.9251 - val_loss: 0.9764 - val_accuracy: 0.8101\n",
      "Epoch 84/150\n",
      "120/120 - 1s - loss: 0.2130 - accuracy: 0.9300 - val_loss: 0.9659 - val_accuracy: 0.8151\n",
      "Epoch 85/150\n",
      "120/120 - 1s - loss: 0.2102 - accuracy: 0.9309 - val_loss: 0.9882 - val_accuracy: 0.8088\n",
      "Epoch 86/150\n",
      "120/120 - 1s - loss: 0.2154 - accuracy: 0.9283 - val_loss: 1.0043 - val_accuracy: 0.8111\n",
      "Epoch 87/150\n",
      "120/120 - 1s - loss: 0.2236 - accuracy: 0.9270 - val_loss: 0.9642 - val_accuracy: 0.8071\n",
      "Epoch 88/150\n",
      "120/120 - 1s - loss: 0.2255 - accuracy: 0.9244 - val_loss: 0.9948 - val_accuracy: 0.8005\n",
      "Epoch 89/150\n",
      "120/120 - 1s - loss: 0.2164 - accuracy: 0.9281 - val_loss: 0.9488 - val_accuracy: 0.8153\n",
      "Epoch 90/150\n",
      "120/120 - 1s - loss: 0.2010 - accuracy: 0.9341 - val_loss: 0.9616 - val_accuracy: 0.8166\n",
      "Epoch 91/150\n",
      "120/120 - 1s - loss: 0.2040 - accuracy: 0.9335 - val_loss: 0.9564 - val_accuracy: 0.8149\n",
      "Epoch 92/150\n",
      "120/120 - 1s - loss: 0.2076 - accuracy: 0.9320 - val_loss: 0.9774 - val_accuracy: 0.8094\n",
      "Epoch 93/150\n",
      "120/120 - 1s - loss: 0.2053 - accuracy: 0.9320 - val_loss: 0.9827 - val_accuracy: 0.8124\n",
      "Epoch 94/150\n",
      "120/120 - 1s - loss: 0.1964 - accuracy: 0.9354 - val_loss: 0.9682 - val_accuracy: 0.8158\n",
      "Epoch 95/150\n",
      "120/120 - 1s - loss: 0.2127 - accuracy: 0.9286 - val_loss: 0.9804 - val_accuracy: 0.8134\n",
      "Epoch 96/150\n",
      "120/120 - 1s - loss: 0.2013 - accuracy: 0.9343 - val_loss: 0.9950 - val_accuracy: 0.8060\n",
      "Epoch 97/150\n",
      "120/120 - 1s - loss: 0.2061 - accuracy: 0.9311 - val_loss: 0.9597 - val_accuracy: 0.8148\n",
      "Epoch 98/150\n",
      "120/120 - 1s - loss: 0.2079 - accuracy: 0.9305 - val_loss: 0.9764 - val_accuracy: 0.8133\n",
      "Epoch 99/150\n",
      "120/120 - 1s - loss: 0.2097 - accuracy: 0.9296 - val_loss: 0.9767 - val_accuracy: 0.8119\n",
      "Epoch 100/150\n",
      "120/120 - 1s - loss: 0.2112 - accuracy: 0.9303 - val_loss: 0.9759 - val_accuracy: 0.8096\n",
      "Epoch 101/150\n",
      "120/120 - 1s - loss: 0.2080 - accuracy: 0.9308 - val_loss: 1.0087 - val_accuracy: 0.8120\n",
      "Epoch 102/150\n",
      "120/120 - 1s - loss: 0.2149 - accuracy: 0.9280 - val_loss: 0.9956 - val_accuracy: 0.8130\n",
      "Epoch 103/150\n",
      "120/120 - 1s - loss: 0.2126 - accuracy: 0.9299 - val_loss: 1.0300 - val_accuracy: 0.8038\n",
      "Epoch 104/150\n",
      "120/120 - 1s - loss: 0.2161 - accuracy: 0.9280 - val_loss: 0.9597 - val_accuracy: 0.8154\n",
      "Epoch 105/150\n",
      "120/120 - 1s - loss: 0.2017 - accuracy: 0.9333 - val_loss: 0.9930 - val_accuracy: 0.8131\n",
      "Epoch 106/150\n",
      "120/120 - 1s - loss: 0.2152 - accuracy: 0.9284 - val_loss: 0.9865 - val_accuracy: 0.8109\n",
      "Epoch 107/150\n",
      "120/120 - 1s - loss: 0.2002 - accuracy: 0.9334 - val_loss: 0.9879 - val_accuracy: 0.8143\n",
      "Epoch 108/150\n",
      "120/120 - 1s - loss: 0.1990 - accuracy: 0.9340 - val_loss: 0.9717 - val_accuracy: 0.8165\n",
      "Epoch 109/150\n",
      "120/120 - 1s - loss: 0.1957 - accuracy: 0.9355 - val_loss: 1.0114 - val_accuracy: 0.8129\n",
      "Epoch 110/150\n",
      "120/120 - 1s - loss: 0.2054 - accuracy: 0.9327 - val_loss: 0.9969 - val_accuracy: 0.8107\n",
      "Epoch 111/150\n",
      "120/120 - 1s - loss: 0.2091 - accuracy: 0.9301 - val_loss: 0.9965 - val_accuracy: 0.8117\n",
      "Epoch 112/150\n",
      "120/120 - 1s - loss: 0.1972 - accuracy: 0.9343 - val_loss: 1.0192 - val_accuracy: 0.8111\n",
      "Epoch 113/150\n",
      "120/120 - 2s - loss: 0.2001 - accuracy: 0.9345 - val_loss: 1.0207 - val_accuracy: 0.8105\n",
      "Epoch 114/150\n",
      "120/120 - 2s - loss: 0.1960 - accuracy: 0.9343 - val_loss: 1.0300 - val_accuracy: 0.8119\n",
      "Epoch 115/150\n",
      "120/120 - 1s - loss: 0.2049 - accuracy: 0.9318 - val_loss: 0.9958 - val_accuracy: 0.8104\n",
      "Epoch 116/150\n",
      "120/120 - 1s - loss: 0.1906 - accuracy: 0.9379 - val_loss: 0.9980 - val_accuracy: 0.8139\n",
      "Epoch 117/150\n",
      "120/120 - 1s - loss: 0.2142 - accuracy: 0.9281 - val_loss: 1.0200 - val_accuracy: 0.8058\n",
      "Epoch 118/150\n",
      "120/120 - 1s - loss: 0.1920 - accuracy: 0.9367 - val_loss: 1.0083 - val_accuracy: 0.8093\n",
      "Epoch 119/150\n",
      "120/120 - 1s - loss: 0.1987 - accuracy: 0.9340 - val_loss: 1.0188 - val_accuracy: 0.8137\n",
      "Epoch 120/150\n",
      "120/120 - 1s - loss: 0.2144 - accuracy: 0.9298 - val_loss: 1.0249 - val_accuracy: 0.8036\n",
      "Epoch 121/150\n",
      "120/120 - 1s - loss: 0.2331 - accuracy: 0.9222 - val_loss: 1.0051 - val_accuracy: 0.8128\n",
      "Epoch 122/150\n",
      "120/120 - 1s - loss: 0.1897 - accuracy: 0.9377 - val_loss: 1.0383 - val_accuracy: 0.8082\n",
      "Epoch 123/150\n",
      "120/120 - 1s - loss: 0.1897 - accuracy: 0.9379 - val_loss: 1.0112 - val_accuracy: 0.8134\n",
      "Epoch 124/150\n",
      "120/120 - 1s - loss: 0.1907 - accuracy: 0.9370 - val_loss: 1.0160 - val_accuracy: 0.8159\n",
      "Epoch 125/150\n",
      "120/120 - 1s - loss: 0.2026 - accuracy: 0.9321 - val_loss: 1.0121 - val_accuracy: 0.8088\n",
      "Epoch 126/150\n",
      "120/120 - 1s - loss: 0.2010 - accuracy: 0.9324 - val_loss: 1.0613 - val_accuracy: 0.8097\n",
      "Epoch 127/150\n",
      "120/120 - 1s - loss: 0.1867 - accuracy: 0.9396 - val_loss: 1.0030 - val_accuracy: 0.8164\n",
      "Epoch 128/150\n",
      "120/120 - 1s - loss: 0.2053 - accuracy: 0.9316 - val_loss: 1.0199 - val_accuracy: 0.8119\n",
      "Epoch 129/150\n",
      "120/120 - 1s - loss: 0.1947 - accuracy: 0.9351 - val_loss: 1.0379 - val_accuracy: 0.8071\n",
      "Epoch 130/150\n",
      "120/120 - 1s - loss: 0.1972 - accuracy: 0.9345 - val_loss: 1.0299 - val_accuracy: 0.8139\n",
      "Epoch 131/150\n",
      "120/120 - 1s - loss: 0.2009 - accuracy: 0.9328 - val_loss: 1.0579 - val_accuracy: 0.8096\n",
      "Epoch 132/150\n",
      "120/120 - 1s - loss: 0.1897 - accuracy: 0.9368 - val_loss: 1.0465 - val_accuracy: 0.8093\n",
      "Epoch 133/150\n",
      "120/120 - 1s - loss: 0.1995 - accuracy: 0.9335 - val_loss: 1.0394 - val_accuracy: 0.8124\n",
      "Epoch 134/150\n",
      "120/120 - 1s - loss: 0.1961 - accuracy: 0.9355 - val_loss: 1.0164 - val_accuracy: 0.8129\n",
      "Epoch 135/150\n",
      "120/120 - 1s - loss: 0.1893 - accuracy: 0.9384 - val_loss: 1.0346 - val_accuracy: 0.8117\n",
      "Epoch 136/150\n",
      "120/120 - 1s - loss: 0.1889 - accuracy: 0.9382 - val_loss: 1.0634 - val_accuracy: 0.8100\n",
      "Epoch 137/150\n",
      "120/120 - 1s - loss: 0.2045 - accuracy: 0.9319 - val_loss: 1.0704 - val_accuracy: 0.8056\n",
      "Epoch 138/150\n",
      "120/120 - 1s - loss: 0.2053 - accuracy: 0.9312 - val_loss: 1.0500 - val_accuracy: 0.8089\n",
      "Epoch 139/150\n",
      "120/120 - 1s - loss: 0.1846 - accuracy: 0.9385 - val_loss: 1.0568 - val_accuracy: 0.8097\n",
      "Epoch 140/150\n",
      "120/120 - 1s - loss: 0.1885 - accuracy: 0.9373 - val_loss: 1.0652 - val_accuracy: 0.8101\n",
      "Epoch 141/150\n",
      "120/120 - 1s - loss: 0.1864 - accuracy: 0.9392 - val_loss: 1.0675 - val_accuracy: 0.8078\n",
      "Epoch 142/150\n",
      "120/120 - 1s - loss: 0.1909 - accuracy: 0.9379 - val_loss: 1.0182 - val_accuracy: 0.8113\n",
      "Epoch 143/150\n",
      "120/120 - 1s - loss: 0.1954 - accuracy: 0.9357 - val_loss: 1.0483 - val_accuracy: 0.8104\n",
      "Epoch 144/150\n",
      "120/120 - 1s - loss: 0.2016 - accuracy: 0.9330 - val_loss: 1.0470 - val_accuracy: 0.8136\n",
      "Epoch 145/150\n",
      "120/120 - 1s - loss: 0.1920 - accuracy: 0.9364 - val_loss: 1.0299 - val_accuracy: 0.8147\n",
      "Epoch 146/150\n",
      "120/120 - 1s - loss: 0.1859 - accuracy: 0.9392 - val_loss: 1.0793 - val_accuracy: 0.8078\n",
      "Epoch 147/150\n",
      "120/120 - 1s - loss: 0.2143 - accuracy: 0.9292 - val_loss: 1.0489 - val_accuracy: 0.8099\n",
      "Epoch 148/150\n",
      "120/120 - 2s - loss: 0.2021 - accuracy: 0.9318 - val_loss: 1.0086 - val_accuracy: 0.8141\n",
      "Epoch 149/150\n",
      "120/120 - 1s - loss: 0.1810 - accuracy: 0.9402 - val_loss: 1.0332 - val_accuracy: 0.8153\n",
      "Epoch 150/150\n",
      "120/120 - 1s - loss: 0.1893 - accuracy: 0.9380 - val_loss: 1.0409 - val_accuracy: 0.8135\n"
     ]
    }
   ],
   "source": [
    "train_history = model.fit(X_train, y_train, validation_data=(X_test, y_test), epochs=150, batch_size=350, verbose=2)"
   ]
  },
  {
   "cell_type": "markdown",
   "metadata": {
    "id": "algw3-VGIj-N"
   },
   "source": [
    "## <font style = \"color:rgb(139,0,0)\">4 Plot the training loss, validation loss vs number of epochs and training accuracy, validation accuracy vs number of epochs plot and write your observations on the same.\n",
    "</font> "
   ]
  },
  {
   "cell_type": "code",
   "execution_count": 37,
   "metadata": {
    "ExecuteTime": {
     "end_time": "2021-05-23T12:22:30.514865Z",
     "start_time": "2021-05-23T12:22:29.407776Z"
    },
    "colab": {
     "base_uri": "https://localhost:8080/",
     "height": 51
    },
    "executionInfo": {
     "elapsed": 1564,
     "status": "ok",
     "timestamp": 1594702898603,
     "user": {
      "displayName": "Mansoor Rahimat Khan",
      "photoUrl": "",
      "userId": "09687443316707549268"
     },
     "user_tz": -330
    },
    "id": "FnJ1ivri6raW",
    "outputId": "6be2b482-f388-4a4b-9bee-e6eb3239503c"
   },
   "outputs": [
    {
     "name": "stdout",
     "output_type": "stream",
     "text": [
      "Loss: 1.040885329246521\n",
      "Accuracy: 0.8134999871253967\n"
     ]
    }
   ],
   "source": [
    "# Final evaluation of the model\n",
    "scores = model.evaluate(X_test, y_test, verbose=0)\n",
    "print(\"Loss:\", scores[0])\n",
    "print(\"Accuracy:\", scores[1])"
   ]
  },
  {
   "cell_type": "code",
   "execution_count": 38,
   "metadata": {
    "ExecuteTime": {
     "end_time": "2021-05-23T12:22:32.392535Z",
     "start_time": "2021-05-23T12:22:31.873834Z"
    },
    "colab": {
     "base_uri": "https://localhost:8080/",
     "height": 562
    },
    "executionInfo": {
     "elapsed": 1498,
     "status": "ok",
     "timestamp": 1594702901168,
     "user": {
      "displayName": "Mansoor Rahimat Khan",
      "photoUrl": "",
      "userId": "09687443316707549268"
     },
     "user_tz": -330
    },
    "id": "KTkKIdERtyIp",
    "outputId": "d7aac737-9adf-428b-82d8-34808b6e03d1"
   },
   "outputs": [
    {
     "data": {
      "text/plain": [
       "Text(0.5, 1.0, 'Training and validation loss')"
      ]
     },
     "execution_count": 38,
     "metadata": {},
     "output_type": "execute_result"
    },
    {
     "data": {
      "image/png": "[encoded data removed]",
      "text/plain": [
       "<Figure size 432x288 with 1 Axes>"
      ]
     },
     "metadata": {
      "needs_background": "light"
     },
     "output_type": "display_data"
    },
    {
     "data": {
      "image/png": "[encoded data removed]",
      "text/plain": [
       "<Figure size 432x288 with 1 Axes>"
      ]
     },
     "metadata": {
      "needs_background": "light"
     },
     "output_type": "display_data"
    }
   ],
   "source": [
    "accuracy      = train_history.history['accuracy']\n",
    "val_accuracy  = train_history.history['val_accuracy']\n",
    "loss     = train_history.history['loss']\n",
    "val_loss = train_history.history['val_loss']\n",
    "epochs   = range(len(accuracy)) \n",
    "plt.plot  ( epochs, accuracy, label = 'training accuracy' )\n",
    "plt.plot  ( epochs, val_accuracy, label = 'validation accuracy' )\n",
    "plt.title ('Training and validation accuracy')\n",
    "plt.legend(loc = 'lower right')\n",
    "plt.figure()\n",
    "plt.plot  ( epochs, loss, label = 'training loss' )\n",
    "plt.plot  ( epochs, val_loss, label = 'validation loss' )\n",
    "plt.legend(loc = 'upper right')\n",
    "plt.title ('Training and validation loss'   )"
   ]
  },
  {
   "cell_type": "markdown",
   "metadata": {
    "id": "JS27zSiqIzZ8"
   },
   "source": [
    "There are around 10 classes in the dataset which represent digits from 0-9.\n",
    "After training a Neural Network with dense hidden layers of different number of units we achieved a final test accuracy of  is 81.34%. \n",
    "Overfitting can be clearly observered in some points in the plots above where the validation loss begins to increase after certain point and validation accuracy begins to decrease.\n",
    "Therfore within this accuracy we are able to distinguish between the different digits in this dataset.\n"
   ]
  }
 ],
 "metadata": {
  "accelerator": "GPU",
  "colab": {
   "collapsed_sections": [],
   "name": "Solution_Autonomous_Vehicles_SVHN_Digit_Recognition.ipynb",
   "provenance": []
  },
  "hide_input": false,
  "kernelspec": {
   "display_name": "Python 3",
   "language": "python",
   "name": "python3"
  },
  "language_info": {
   "codemirror_mode": {
    "name": "ipython",
    "version": 3
   },
   "file_extension": ".py",
   "mimetype": "text/x-python",
   "name": "python",
   "nbconvert_exporter": "python",
   "pygments_lexer": "ipython3",
   "version": "3.8.8"
  },
  "latex_envs": {
   "LaTeX_envs_menu_present": true,
   "autoclose": true,
   "autocomplete": true,
   "bibliofile": "biblio.bib",
   "cite_by": "apalike",
   "current_citInitial": 1,
   "eqLabelWithNumbers": true,
   "eqNumInitial": 1,
   "hotkeys": {
    "equation": "Ctrl-E",
    "itemize": "Ctrl-I"
   },
   "labels_anchors": false,
   "latex_user_defs": false,
   "report_style_numbering": false,
   "user_envs_cfg": false
  },
  "nbTranslate": {
   "displayLangs": [
    "*"
   ],
   "hotkey": "alt-t",
   "langInMainMenu": true,
   "sourceLang": "en",
   "targetLang": "fr",
   "useGoogleTranslate": true
  },
  "toc": {
   "base_numbering": 1,
   "nav_menu": {},
   "number_sections": true,
   "sideBar": true,
   "skip_h1_title": false,
   "title_cell": "Table of Contents",
   "title_sidebar": "Contents",
   "toc_cell": false,
   "toc_position": {},
   "toc_section_display": true,
   "toc_window_display": false
  },
  "varInspector": {
   "cols": {
    "lenName": 16,
    "lenType": 16,
    "lenVar": 40
   },
   "kernels_config": {
    "python": {
     "delete_cmd_postfix": "",
     "delete_cmd_prefix": "del ",
     "library": "var_list.py",
     "varRefreshCmd": "print(var_dic_list())"
    },
    "r": {
     "delete_cmd_postfix": ") ",
     "delete_cmd_prefix": "rm(",
     "library": "var_list.r",
     "varRefreshCmd": "cat(var_dic_list()) "
    }
   },
   "types_to_exclude": [
    "module",
    "function",
    "builtin_function_or_method",
    "instance",
    "_Feature"
   ],
   "window_display": false
  }
 },
 "nbformat": 4,
 "nbformat_minor": 1
}
