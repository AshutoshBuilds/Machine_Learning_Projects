{
 "cells": [
  {
   "cell_type": "markdown",
   "metadata": {
    "hide_input": false
   },
   "source": [
    "# <font style = \"color:rgb(139,0,0)\">RECOMMENDATION SYSTEMS PROJECT</font>\n",
    "\n",
    "### <font style = \"color:rgb(139,0,0)\">Data Description</font>\n",
    "\n",
    "  • **`author`**  : name of the person who gave the rating\n",
    "  • **`country`** : country the person who gave the rating belongs to\n",
    "  • **`date`**    : date of the rating\n",
    "  • **`domain`**  : website from which the rating was taken from\n",
    "  • **`extract`** : rating content\n",
    "  • **`language`**: language in which the rating was given\n",
    "  • **`product`** : name of the product/mobile phone for which the rating was given\n",
    "  • **`score`**   : average rating for the phone\n",
    "  • **`score_max`**: highest rating given for the phone\n",
    "  • **`source`**   : source from where the rating was taken\n",
    "\n",
    "### <font style = \"color:rgb(139,0,0)\">Domain</font>\n",
    "\n",
    "Smartphone, Electronics\n",
    "\n",
    "### <font style = \"color:rgb(139,0,0)\">Context</font>\n",
    "\n",
    "India is the second largest market globally for smartphones after China. About 134 million smartphones were sold across India in the year 2017 and is estimated to increase to about 442 million in 2022. India ranked second in the average time spent on mobile web by smartphone  users  across  Asia  Pacific.  The  combination  of  very  high  sales  volumes  and  the  average  smartphone  consumer  behaviour  has made India a very attractive market for foreign vendors. As per Consumer behaviour, 97% of consumers turn to a search engine when they are buying a product vs. 15% who turn to social media. If a seller succeeds to publish smartphones based on user’s behaviour/choice at the right  place,  there  are  90%  chances  that  user  will  enquire  for  the  same.  This  Case  Study  is  targeted  to  build  a  recommendation  system based on individual consumer’s behaviour or choice.\n",
    "\n",
    "\n",
    "### <font style = \"color:rgb(139,0,0)\">Project Objective</font>\n",
    "We  will  build  a  recommendation  system  using  popularity  based  and  collaborative filtering methods to recommend mobile phones to a user which are most popular and personalised respectively."
   ]
  },
  {
   "cell_type": "markdown",
   "metadata": {},
   "source": [
    "## <font style = \"color:rgb(184,134,11)\">Steps and tasks</font>"
   ]
  },
  {
   "cell_type": "markdown",
   "metadata": {},
   "source": [
    "### <font style = \"color:rgb(184,134,11)\">Step 1 :- Importing necessary Libraries & the Dataset</font>"
   ]
  },
  {
   "cell_type": "code",
   "execution_count": 135,
   "metadata": {
    "ExecuteTime": {
     "end_time": "2021-05-20T10:46:01.365836Z",
     "start_time": "2021-05-20T10:46:01.340851Z"
    }
   },
   "outputs": [],
   "source": [
    "#necessary imports\n",
    "import numpy as np\n",
    "import pandas as pd\n",
    "\n",
    "import matplotlib.pyplot as plt\n",
    "import seaborn as sns\n",
    "\n",
    "#for recommendation system\n",
    "from surprise import SVD, Dataset, Reader, KNNWithMeans\n",
    "from surprise.model_selection import cross_validate, train_test_split\n",
    "from surprise import accuracy\n",
    "import scipy.sparse\n",
    "from scipy.sparse.linalg import svds\n",
    "\n",
    "# To encode categorical variables\n",
    "from sklearn.preprocessing import LabelEncoder\n",
    "\n",
    "# for merging\n",
    "import os\n",
    "import glob\n",
    "import warnings; warnings.simplefilter('ignore')\n",
    "%matplotlib inline\n",
    "%matplotlib notebook"
   ]
  },
  {
   "cell_type": "markdown",
   "metadata": {},
   "source": [
    "### <font style = \"color:rgb(184,134,11)\">Step 2 :- Exploratory Data Analysis and Data Cleaning</font>"
   ]
  },
  {
   "cell_type": "code",
   "execution_count": 136,
   "metadata": {
    "ExecuteTime": {
     "end_time": "2021-05-20T10:46:25.296873Z",
     "start_time": "2021-05-20T10:46:12.717059Z"
    },
    "code_folding": []
   },
   "outputs": [],
   "source": [
    "#importing the data sets and merging them into one dataframe.\n",
    "# to reach the folder containing all files we mention path.\n",
    "path = \"C:/Users/DELL/Desktop/Electronics\"\n",
    "\n",
    "files = glob.glob(os.path.join(path, r\"C:\\Users\\DELL\\Desktop\\phone\\*.csv\"))\n",
    "\n",
    "df1 = []\n",
    "for f in files:\n",
    "    df2 = pd.read_csv(f, sep=',',encoding='latin1')\n",
    "   # f['file'] = f.split('/')[-1]\n",
    "    df1.append(df2)\n",
    "    \n"
   ]
  },
  {
   "cell_type": "code",
   "execution_count": 137,
   "metadata": {
    "ExecuteTime": {
     "end_time": "2021-05-20T10:46:38.134496Z",
     "start_time": "2021-05-20T10:46:36.999151Z"
    }
   },
   "outputs": [],
   "source": [
    "df3 = pd.concat(df1, ignore_index=True, sort=True)\n",
    "\n",
    "# dropping irrelevant columns and rows as we only need 'author','product' and 'score' attributes.\n",
    "df = df3.drop(['phone_url','date','lang','country','source','domain','extract','score_max'], axis=1)"
   ]
  },
  {
   "cell_type": "code",
   "execution_count": 138,
   "metadata": {
    "ExecuteTime": {
     "end_time": "2021-05-20T10:46:49.554658Z",
     "start_time": "2021-05-20T10:46:49.525653Z"
    },
    "code_folding": []
   },
   "outputs": [
    {
     "data": {
      "text/html": [
       "<div>\n",
       "<style scoped>\n",
       "    .dataframe tbody tr th:only-of-type {\n",
       "        vertical-align: middle;\n",
       "    }\n",
       "\n",
       "    .dataframe tbody tr th {\n",
       "        vertical-align: top;\n",
       "    }\n",
       "\n",
       "    .dataframe thead th {\n",
       "        text-align: right;\n",
       "    }\n",
       "</style>\n",
       "<table border=\"1\" class=\"dataframe\">\n",
       "  <thead>\n",
       "    <tr style=\"text-align: right;\">\n",
       "      <th></th>\n",
       "      <th>author</th>\n",
       "      <th>product</th>\n",
       "      <th>score</th>\n",
       "    </tr>\n",
       "  </thead>\n",
       "  <tbody>\n",
       "    <tr>\n",
       "      <th>0</th>\n",
       "      <td>CarolAnn35</td>\n",
       "      <td>Samsung Galaxy S8</td>\n",
       "      <td>10.0</td>\n",
       "    </tr>\n",
       "    <tr>\n",
       "      <th>1</th>\n",
       "      <td>james0923</td>\n",
       "      <td>Samsung Galaxy S8</td>\n",
       "      <td>10.0</td>\n",
       "    </tr>\n",
       "    <tr>\n",
       "      <th>2</th>\n",
       "      <td>R. Craig</td>\n",
       "      <td>Samsung Galaxy S8 (64GB) G950U 5.8\" 4G LTE Unl...</td>\n",
       "      <td>6.0</td>\n",
       "    </tr>\n",
       "    <tr>\n",
       "      <th>3</th>\n",
       "      <td>Buster2020</td>\n",
       "      <td>Samsung Galaxy S8 64GB (AT&amp;T)</td>\n",
       "      <td>9.2</td>\n",
       "    </tr>\n",
       "    <tr>\n",
       "      <th>4</th>\n",
       "      <td>S Ate Mine</td>\n",
       "      <td>Samsung Galaxy S8</td>\n",
       "      <td>4.0</td>\n",
       "    </tr>\n",
       "  </tbody>\n",
       "</table>\n",
       "</div>"
      ],
      "text/plain": [
       "        author                                            product  score\n",
       "0   CarolAnn35                                  Samsung Galaxy S8   10.0\n",
       "1    james0923                                  Samsung Galaxy S8   10.0\n",
       "2     R. Craig  Samsung Galaxy S8 (64GB) G950U 5.8\" 4G LTE Unl...    6.0\n",
       "3  Buster2020                       Samsung Galaxy S8 64GB (AT&T)    9.2\n",
       "4   S Ate Mine                                  Samsung Galaxy S8    4.0"
      ]
     },
     "execution_count": 138,
     "metadata": {},
     "output_type": "execute_result"
    }
   ],
   "source": [
    "# viewing first 5 rows of the imported dataset\n",
    "df.head()"
   ]
  },
  {
   "cell_type": "code",
   "execution_count": 139,
   "metadata": {
    "ExecuteTime": {
     "end_time": "2021-05-20T10:47:00.639306Z",
     "start_time": "2021-05-20T10:47:00.613301Z"
    },
    "scrolled": true
   },
   "outputs": [
    {
     "data": {
      "text/html": [
       "<div>\n",
       "<style scoped>\n",
       "    .dataframe tbody tr th:only-of-type {\n",
       "        vertical-align: middle;\n",
       "    }\n",
       "\n",
       "    .dataframe tbody tr th {\n",
       "        vertical-align: top;\n",
       "    }\n",
       "\n",
       "    .dataframe thead th {\n",
       "        text-align: right;\n",
       "    }\n",
       "</style>\n",
       "<table border=\"1\" class=\"dataframe\">\n",
       "  <thead>\n",
       "    <tr style=\"text-align: right;\">\n",
       "      <th></th>\n",
       "      <th>author</th>\n",
       "      <th>product</th>\n",
       "      <th>score</th>\n",
       "    </tr>\n",
       "  </thead>\n",
       "  <tbody>\n",
       "    <tr>\n",
       "      <th>1415128</th>\n",
       "      <td>david.paul</td>\n",
       "      <td>Alcatel Club Plus Handy</td>\n",
       "      <td>2.0</td>\n",
       "    </tr>\n",
       "    <tr>\n",
       "      <th>1415129</th>\n",
       "      <td>Christiane14</td>\n",
       "      <td>Alcatel Club Plus Handy</td>\n",
       "      <td>10.0</td>\n",
       "    </tr>\n",
       "    <tr>\n",
       "      <th>1415130</th>\n",
       "      <td>michaelawr</td>\n",
       "      <td>Alcatel Club Plus Handy</td>\n",
       "      <td>2.0</td>\n",
       "    </tr>\n",
       "    <tr>\n",
       "      <th>1415131</th>\n",
       "      <td>claudia0815</td>\n",
       "      <td>Alcatel Club Plus Handy</td>\n",
       "      <td>8.0</td>\n",
       "    </tr>\n",
       "    <tr>\n",
       "      <th>1415132</th>\n",
       "      <td>michaelawr</td>\n",
       "      <td>Alcatel Club Plus Handy</td>\n",
       "      <td>2.0</td>\n",
       "    </tr>\n",
       "  </tbody>\n",
       "</table>\n",
       "</div>"
      ],
      "text/plain": [
       "               author                  product  score\n",
       "1415128    david.paul  Alcatel Club Plus Handy    2.0\n",
       "1415129  Christiane14  Alcatel Club Plus Handy   10.0\n",
       "1415130    michaelawr  Alcatel Club Plus Handy    2.0\n",
       "1415131   claudia0815  Alcatel Club Plus Handy    8.0\n",
       "1415132    michaelawr  Alcatel Club Plus Handy    2.0"
      ]
     },
     "execution_count": 139,
     "metadata": {},
     "output_type": "execute_result"
    }
   ],
   "source": [
    "# viewing few last 5 rows of the imported dataset\n",
    "df.tail()"
   ]
  },
  {
   "cell_type": "markdown",
   "metadata": {},
   "source": [
    "Now that we have successfully read the dataset and dropped the irrelevant columns, let's explore the data."
   ]
  },
  {
   "cell_type": "code",
   "execution_count": 140,
   "metadata": {
    "ExecuteTime": {
     "end_time": "2021-05-20T10:47:11.961789Z",
     "start_time": "2021-05-20T10:47:11.952798Z"
    },
    "scrolled": true
   },
   "outputs": [
    {
     "name": "stdout",
     "output_type": "stream",
     "text": [
      "No of rows:  1415133\n",
      "No of columns:  3\n"
     ]
    }
   ],
   "source": [
    "# viewing the number of rows and columns (shape of the dataset)\n",
    "rows, columns = df.shape\n",
    "print(\"No of rows: \", rows) \n",
    "print(\"No of columns: \", columns)"
   ]
  },
  {
   "cell_type": "code",
   "execution_count": 141,
   "metadata": {
    "ExecuteTime": {
     "end_time": "2021-05-20T10:47:29.083845Z",
     "start_time": "2021-05-20T10:47:29.070880Z"
    }
   },
   "outputs": [
    {
     "data": {
      "text/plain": [
       "author      object\n",
       "product     object\n",
       "score      float64\n",
       "dtype: object"
      ]
     },
     "execution_count": 141,
     "metadata": {},
     "output_type": "execute_result"
    }
   ],
   "source": [
    "#Checking the Data types\n",
    "df.dtypes"
   ]
  },
  {
   "cell_type": "markdown",
   "metadata": {},
   "source": [
    "## Now there are no missing values present."
   ]
  },
  {
   "cell_type": "markdown",
   "metadata": {},
   "source": [
    "## Rounding off 'score' attribute column to nearest integer."
   ]
  },
  {
   "cell_type": "code",
   "execution_count": 147,
   "metadata": {
    "ExecuteTime": {
     "end_time": "2021-05-20T10:49:29.690159Z",
     "start_time": "2021-05-20T10:49:29.594214Z"
    },
    "scrolled": true
   },
   "outputs": [
    {
     "data": {
      "text/html": [
       "<div>\n",
       "<style scoped>\n",
       "    .dataframe tbody tr th:only-of-type {\n",
       "        vertical-align: middle;\n",
       "    }\n",
       "\n",
       "    .dataframe tbody tr th {\n",
       "        vertical-align: top;\n",
       "    }\n",
       "\n",
       "    .dataframe thead th {\n",
       "        text-align: right;\n",
       "    }\n",
       "</style>\n",
       "<table border=\"1\" class=\"dataframe\">\n",
       "  <thead>\n",
       "    <tr style=\"text-align: right;\">\n",
       "      <th></th>\n",
       "      <th>author</th>\n",
       "      <th>product</th>\n",
       "      <th>score</th>\n",
       "    </tr>\n",
       "  </thead>\n",
       "  <tbody>\n",
       "    <tr>\n",
       "      <th>0</th>\n",
       "      <td>CarolAnn35</td>\n",
       "      <td>Samsung Galaxy S8</td>\n",
       "      <td>10.0</td>\n",
       "    </tr>\n",
       "    <tr>\n",
       "      <th>1</th>\n",
       "      <td>james0923</td>\n",
       "      <td>Samsung Galaxy S8</td>\n",
       "      <td>10.0</td>\n",
       "    </tr>\n",
       "    <tr>\n",
       "      <th>2</th>\n",
       "      <td>R. Craig</td>\n",
       "      <td>Samsung Galaxy S8 (64GB) G950U 5.8\" 4G LTE Unl...</td>\n",
       "      <td>6.0</td>\n",
       "    </tr>\n",
       "    <tr>\n",
       "      <th>3</th>\n",
       "      <td>Buster2020</td>\n",
       "      <td>Samsung Galaxy S8 64GB (AT&amp;T)</td>\n",
       "      <td>9.0</td>\n",
       "    </tr>\n",
       "    <tr>\n",
       "      <th>4</th>\n",
       "      <td>S Ate Mine</td>\n",
       "      <td>Samsung Galaxy S8</td>\n",
       "      <td>4.0</td>\n",
       "    </tr>\n",
       "    <tr>\n",
       "      <th>...</th>\n",
       "      <td>...</td>\n",
       "      <td>...</td>\n",
       "      <td>...</td>\n",
       "    </tr>\n",
       "    <tr>\n",
       "      <th>1415127</th>\n",
       "      <td>anjuli</td>\n",
       "      <td>Alcatel Club Plus Handy</td>\n",
       "      <td>2.0</td>\n",
       "    </tr>\n",
       "    <tr>\n",
       "      <th>1415128</th>\n",
       "      <td>david.paul</td>\n",
       "      <td>Alcatel Club Plus Handy</td>\n",
       "      <td>2.0</td>\n",
       "    </tr>\n",
       "    <tr>\n",
       "      <th>1415129</th>\n",
       "      <td>Christiane14</td>\n",
       "      <td>Alcatel Club Plus Handy</td>\n",
       "      <td>10.0</td>\n",
       "    </tr>\n",
       "    <tr>\n",
       "      <th>1415130</th>\n",
       "      <td>michaelawr</td>\n",
       "      <td>Alcatel Club Plus Handy</td>\n",
       "      <td>2.0</td>\n",
       "    </tr>\n",
       "    <tr>\n",
       "      <th>1415131</th>\n",
       "      <td>claudia0815</td>\n",
       "      <td>Alcatel Club Plus Handy</td>\n",
       "      <td>8.0</td>\n",
       "    </tr>\n",
       "  </tbody>\n",
       "</table>\n",
       "<p>1163104 rows × 3 columns</p>\n",
       "</div>"
      ],
      "text/plain": [
       "               author                                            product  \\\n",
       "0          CarolAnn35                                  Samsung Galaxy S8   \n",
       "1           james0923                                  Samsung Galaxy S8   \n",
       "2            R. Craig  Samsung Galaxy S8 (64GB) G950U 5.8\" 4G LTE Unl...   \n",
       "3         Buster2020                       Samsung Galaxy S8 64GB (AT&T)   \n",
       "4          S Ate Mine                                  Samsung Galaxy S8   \n",
       "...               ...                                                ...   \n",
       "1415127        anjuli                            Alcatel Club Plus Handy   \n",
       "1415128    david.paul                            Alcatel Club Plus Handy   \n",
       "1415129  Christiane14                            Alcatel Club Plus Handy   \n",
       "1415130    michaelawr                            Alcatel Club Plus Handy   \n",
       "1415131   claudia0815                            Alcatel Club Plus Handy   \n",
       "\n",
       "         score  \n",
       "0         10.0  \n",
       "1         10.0  \n",
       "2          6.0  \n",
       "3          9.0  \n",
       "4          4.0  \n",
       "...        ...  \n",
       "1415127    2.0  \n",
       "1415128    2.0  \n",
       "1415129   10.0  \n",
       "1415130    2.0  \n",
       "1415131    8.0  \n",
       "\n",
       "[1163104 rows x 3 columns]"
      ]
     },
     "execution_count": 147,
     "metadata": {},
     "output_type": "execute_result"
    }
   ],
   "source": [
    "df.score = df.score.round()\n",
    "df"
   ]
  },
  {
   "cell_type": "markdown",
   "metadata": {},
   "source": [
    "Now we can see every value in 'score' column is rounded off to nearest integer."
   ]
  },
  {
   "cell_type": "code",
   "execution_count": 148,
   "metadata": {
    "ExecuteTime": {
     "end_time": "2021-05-20T10:49:41.041719Z",
     "start_time": "2021-05-20T10:49:40.869820Z"
    },
    "scrolled": true
   },
   "outputs": [
    {
     "name": "stdout",
     "output_type": "stream",
     "text": [
      "Number of missing values in the dataset are :-\n",
      " author     0\n",
      "product    0\n",
      "score      0\n",
      "dtype: int64\n"
     ]
    }
   ],
   "source": [
    "# Checking for missing values present in the dataset\n",
    "print('Number of missing values in the dataset are :-\\n', df.isnull().sum())"
   ]
  },
  {
   "cell_type": "code",
   "execution_count": 149,
   "metadata": {
    "ExecuteTime": {
     "end_time": "2021-05-20T10:49:54.424055Z",
     "start_time": "2021-05-20T10:49:53.531566Z"
    }
   },
   "outputs": [
    {
     "name": "stdout",
     "output_type": "stream",
     "text": [
      "Number of duplicate values in the dataset are :-\n",
      " 0\n"
     ]
    }
   ],
   "source": [
    "# Checking for duplicate values present in the dataset\n",
    "print('Number of duplicate values in the dataset are :-\\n', df.duplicated().sum())"
   ]
  },
  {
   "cell_type": "code",
   "execution_count": 150,
   "metadata": {
    "ExecuteTime": {
     "end_time": "2021-05-20T10:50:08.251134Z",
     "start_time": "2021-05-20T10:50:07.190742Z"
    }
   },
   "outputs": [],
   "source": [
    "# dropping rows with duplicate values\n",
    "df.drop_duplicates(keep = 'first' , inplace = True)"
   ]
  },
  {
   "cell_type": "code",
   "execution_count": 151,
   "metadata": {
    "ExecuteTime": {
     "end_time": "2021-05-20T10:50:22.154168Z",
     "start_time": "2021-05-20T10:50:21.763392Z"
    }
   },
   "outputs": [],
   "source": [
    "#dropping rows with missing values as we only need 1000000 columns\n",
    "df.dropna(how='any', thresh=None, subset=None, inplace=True)"
   ]
  },
  {
   "cell_type": "code",
   "execution_count": null,
   "metadata": {
    "ExecuteTime": {
     "end_time": "2021-05-20T10:48:36.760063Z",
     "start_time": "2021-05-20T10:48:35.536765Z"
    }
   },
   "outputs": [],
   "source": []
  },
  {
   "cell_type": "code",
   "execution_count": 152,
   "metadata": {
    "ExecuteTime": {
     "end_time": "2021-05-20T10:50:36.265086Z",
     "start_time": "2021-05-20T10:50:36.050209Z"
    },
    "scrolled": true
   },
   "outputs": [
    {
     "name": "stdout",
     "output_type": "stream",
     "text": [
      "Number of missing values in the datset are-\n",
      " author     0\n",
      "product    0\n",
      "score      0\n",
      "dtype: int64\n"
     ]
    }
   ],
   "source": [
    "# Checking for missing values again\n",
    "print('Number of missing values in the datset are-\\n', df.isnull().sum())"
   ]
  },
  {
   "cell_type": "code",
   "execution_count": 153,
   "metadata": {
    "ExecuteTime": {
     "end_time": "2021-05-20T10:50:50.847731Z",
     "start_time": "2021-05-20T10:50:49.756358Z"
    }
   },
   "outputs": [
    {
     "name": "stdout",
     "output_type": "stream",
     "text": [
      "Number of duplicate values in the datset are-\n",
      " 0\n"
     ]
    }
   ],
   "source": [
    "# Checking for duplicate values again\n",
    "print('Number of duplicate values in the datset are-\\n', df.duplicated().sum())"
   ]
  },
  {
   "cell_type": "code",
   "execution_count": 154,
   "metadata": {
    "ExecuteTime": {
     "end_time": "2021-05-20T10:51:01.768096Z",
     "start_time": "2021-05-20T10:51:01.757103Z"
    }
   },
   "outputs": [
    {
     "name": "stdout",
     "output_type": "stream",
     "text": [
      "No of rows:  1163104\n",
      "No of columns:  3\n"
     ]
    }
   ],
   "source": [
    "# Checking the number of rows and columns again(shape of the data)\n",
    "rows, columns = df.shape\n",
    "print(\"No of rows: \", rows) \n",
    "print(\"No of columns: \", columns) "
   ]
  },
  {
   "cell_type": "code",
   "execution_count": 155,
   "metadata": {
    "ExecuteTime": {
     "end_time": "2021-05-20T10:51:10.256311Z",
     "start_time": "2021-05-20T10:51:10.230316Z"
    }
   },
   "outputs": [
    {
     "name": "stdout",
     "output_type": "stream",
     "text": [
      "The minimum score is: 0\n",
      "The maximum score is: 10\n"
     ]
    }
   ],
   "source": [
    "# finding minimum and maximum score \n",
    "\n",
    "def find_min_max_score():\n",
    "    print('The minimum score is: %d' %(df['score'].min()))\n",
    "    print('The maximum score is: %d' %(df['score'].max()))\n",
    "    \n",
    "find_min_max_score() "
   ]
  },
  {
   "cell_type": "markdown",
   "metadata": {},
   "source": [
    "We can see here that the score ranges from 0 to 10."
   ]
  },
  {
   "cell_type": "code",
   "execution_count": 156,
   "metadata": {
    "ExecuteTime": {
     "end_time": "2021-05-20T10:51:22.825171Z",
     "start_time": "2021-05-20T10:51:22.459382Z"
    },
    "scrolled": true
   },
   "outputs": [
    {
     "data": {
      "text/plain": [
       "778979"
      ]
     },
     "execution_count": 156,
     "metadata": {},
     "output_type": "execute_result"
    }
   ],
   "source": [
    "#let's see how many same and different persons have scored.\n",
    "len(df[\"author\"].unique())"
   ]
  },
  {
   "cell_type": "markdown",
   "metadata": {},
   "source": [
    "We can note here that there are just around 778979 unique authors but 1291038 rows which means that some users have given scores to multiple products."
   ]
  },
  {
   "cell_type": "code",
   "execution_count": 157,
   "metadata": {
    "ExecuteTime": {
     "end_time": "2021-05-20T10:51:36.264469Z",
     "start_time": "2021-05-20T10:51:35.905675Z"
    }
   },
   "outputs": [
    {
     "data": {
      "text/plain": [
       "55274"
      ]
     },
     "execution_count": 157,
     "metadata": {},
     "output_type": "execute_result"
    }
   ],
   "source": [
    "#let's see how many different products are there.\n",
    "len(df[\"product\"].unique())"
   ]
  },
  {
   "cell_type": "markdown",
   "metadata": {},
   "source": [
    "Also we have 55274 unique products and rest are same."
   ]
  },
  {
   "cell_type": "code",
   "execution_count": 158,
   "metadata": {
    "ExecuteTime": {
     "end_time": "2021-05-20T10:51:49.939636Z",
     "start_time": "2021-05-20T10:51:49.894661Z"
    }
   },
   "outputs": [
    {
     "data": {
      "text/plain": [
       "array([10.,  6.,  9.,  4.,  8.,  2.,  7.,  5.,  3.,  1.,  0.])"
      ]
     },
     "execution_count": 158,
     "metadata": {},
     "output_type": "execute_result"
    }
   ],
   "source": [
    "#unique scores given.\n",
    "df[\"score\"].unique()"
   ]
  },
  {
   "cell_type": "code",
   "execution_count": 159,
   "metadata": {
    "ExecuteTime": {
     "end_time": "2021-05-20T10:52:03.486876Z",
     "start_time": "2021-05-20T10:52:03.364944Z"
    }
   },
   "outputs": [
    {
     "data": {
      "text/html": [
       "<div>\n",
       "<style scoped>\n",
       "    .dataframe tbody tr th:only-of-type {\n",
       "        vertical-align: middle;\n",
       "    }\n",
       "\n",
       "    .dataframe tbody tr th {\n",
       "        vertical-align: top;\n",
       "    }\n",
       "\n",
       "    .dataframe thead th {\n",
       "        text-align: right;\n",
       "    }\n",
       "</style>\n",
       "<table border=\"1\" class=\"dataframe\">\n",
       "  <thead>\n",
       "    <tr style=\"text-align: right;\">\n",
       "      <th></th>\n",
       "      <th>count</th>\n",
       "      <th>mean</th>\n",
       "      <th>std</th>\n",
       "      <th>min</th>\n",
       "      <th>25%</th>\n",
       "      <th>50%</th>\n",
       "      <th>75%</th>\n",
       "      <th>max</th>\n",
       "    </tr>\n",
       "  </thead>\n",
       "  <tbody>\n",
       "    <tr>\n",
       "      <th>score</th>\n",
       "      <td>1163104.0</td>\n",
       "      <td>8.018545</td>\n",
       "      <td>2.597187</td>\n",
       "      <td>0.0</td>\n",
       "      <td>7.0</td>\n",
       "      <td>9.0</td>\n",
       "      <td>10.0</td>\n",
       "      <td>10.0</td>\n",
       "    </tr>\n",
       "  </tbody>\n",
       "</table>\n",
       "</div>"
      ],
      "text/plain": [
       "           count      mean       std  min  25%  50%   75%   max\n",
       "score  1163104.0  8.018545  2.597187  0.0  7.0  9.0  10.0  10.0"
      ]
     },
     "execution_count": 159,
     "metadata": {},
     "output_type": "execute_result"
    }
   ],
   "source": [
    "# Summary statistics of 'score' variable\n",
    "df[['score']].describe().transpose()"
   ]
  },
  {
   "cell_type": "code",
   "execution_count": 160,
   "metadata": {
    "ExecuteTime": {
     "end_time": "2021-05-20T10:52:17.373921Z",
     "start_time": "2021-05-20T10:52:16.844223Z"
    }
   },
   "outputs": [],
   "source": [
    "#Limiting Dataset to 1000000 records\n",
    "df = df.sample(n=1000000,random_state=612)"
   ]
  },
  {
   "cell_type": "code",
   "execution_count": 161,
   "metadata": {
    "ExecuteTime": {
     "end_time": "2021-05-20T10:52:29.392037Z",
     "start_time": "2021-05-20T10:52:29.368049Z"
    }
   },
   "outputs": [
    {
     "data": {
      "text/plain": [
       "(1000000, 3)"
      ]
     },
     "execution_count": 161,
     "metadata": {},
     "output_type": "execute_result"
    }
   ],
   "source": [
    "#checking number of records in Dataset\n",
    "df.shape"
   ]
  },
  {
   "cell_type": "code",
   "execution_count": 162,
   "metadata": {
    "ExecuteTime": {
     "end_time": "2021-05-20T10:52:42.067279Z",
     "start_time": "2021-05-20T10:52:42.040295Z"
    }
   },
   "outputs": [
    {
     "data": {
      "text/html": [
       "<div>\n",
       "<style scoped>\n",
       "    .dataframe tbody tr th:only-of-type {\n",
       "        vertical-align: middle;\n",
       "    }\n",
       "\n",
       "    .dataframe tbody tr th {\n",
       "        vertical-align: top;\n",
       "    }\n",
       "\n",
       "    .dataframe thead th {\n",
       "        text-align: right;\n",
       "    }\n",
       "</style>\n",
       "<table border=\"1\" class=\"dataframe\">\n",
       "  <thead>\n",
       "    <tr style=\"text-align: right;\">\n",
       "      <th></th>\n",
       "      <th>author</th>\n",
       "      <th>product</th>\n",
       "      <th>score</th>\n",
       "    </tr>\n",
       "  </thead>\n",
       "  <tbody>\n",
       "    <tr>\n",
       "      <th>865670</th>\n",
       "      <td>B. McCarthy</td>\n",
       "      <td>Kyocera Torque, Black 4GB (Sprint)</td>\n",
       "      <td>6.0</td>\n",
       "    </tr>\n",
       "    <tr>\n",
       "      <th>710715</th>\n",
       "      <td>CMariaG</td>\n",
       "      <td>Samsung Smartphone Samsung Galaxy Gran Duos De...</td>\n",
       "      <td>10.0</td>\n",
       "    </tr>\n",
       "    <tr>\n",
       "      <th>87204</th>\n",
       "      <td>kevkyle</td>\n",
       "      <td>LG V10</td>\n",
       "      <td>9.0</td>\n",
       "    </tr>\n",
       "    <tr>\n",
       "      <th>19955</th>\n",
       "      <td>soki</td>\n",
       "      <td>Samsung G935 Galaxy S7 Edge Smartphone da 32GB...</td>\n",
       "      <td>10.0</td>\n",
       "    </tr>\n",
       "    <tr>\n",
       "      <th>833744</th>\n",
       "      <td>sylvain</td>\n",
       "      <td>Samsung Galaxy Note Smartphone HSPA/EDGE/GPRS ...</td>\n",
       "      <td>10.0</td>\n",
       "    </tr>\n",
       "  </tbody>\n",
       "</table>\n",
       "</div>"
      ],
      "text/plain": [
       "             author                                            product  score\n",
       "865670  B. McCarthy                 Kyocera Torque, Black 4GB (Sprint)    6.0\n",
       "710715      CMariaG  Samsung Smartphone Samsung Galaxy Gran Duos De...   10.0\n",
       "87204       kevkyle                                             LG V10    9.0\n",
       "19955          soki  Samsung G935 Galaxy S7 Edge Smartphone da 32GB...   10.0\n",
       "833744      sylvain  Samsung Galaxy Note Smartphone HSPA/EDGE/GPRS ...   10.0"
      ]
     },
     "execution_count": 162,
     "metadata": {},
     "output_type": "execute_result"
    }
   ],
   "source": [
    "#checking updated DataFrame for records\n",
    "df.head()"
   ]
  },
  {
   "cell_type": "markdown",
   "metadata": {},
   "source": [
    "### <font style = \"color:rgb(184,134,11)\">Step 3 :- Creating a Popularity Based Recommendation System</font>"
   ]
  },
  {
   "cell_type": "markdown",
   "metadata": {},
   "source": [
    "## Identifying the most rated features"
   ]
  },
  {
   "cell_type": "code",
   "execution_count": 163,
   "metadata": {
    "ExecuteTime": {
     "end_time": "2021-05-20T10:52:57.933189Z",
     "start_time": "2021-05-20T10:52:54.247302Z"
    }
   },
   "outputs": [
    {
     "data": {
      "text/plain": [
       "author\n",
       "Amazon Customer    14465\n",
       "Cliente Amazon      5496\n",
       "Client d'Amazon     2341\n",
       "Amazon Kunde        1745\n",
       "Anonymous           1631\n",
       "Name: score, dtype: int64"
      ]
     },
     "execution_count": 163,
     "metadata": {},
     "output_type": "execute_result"
    }
   ],
   "source": [
    "#Here we calculate the Number of times a user has rated a Product\n",
    "rating_by_user = df.groupby(by='author')['score'].count().sort_values(ascending=False)\n",
    "rating_by_user.head()"
   ]
  },
  {
   "cell_type": "markdown",
   "metadata": {},
   "source": [
    "## Identifying users with most number of views"
   ]
  },
  {
   "cell_type": "code",
   "execution_count": 164,
   "metadata": {
    "ExecuteTime": {
     "end_time": "2021-05-20T10:53:11.256557Z",
     "start_time": "2021-05-20T10:53:10.453018Z"
    }
   },
   "outputs": [
    {
     "data": {
      "text/plain": [
       "product\n",
       "OnePlus 3 (Graphite, 64 GB)          1915\n",
       "Lenovo Vibe K4 Note (White,16GB)     1839\n",
       "Lenovo Vibe K4 Note (Black, 16GB)    1578\n",
       "Samsung Galaxy J3 (8GB)              1563\n",
       "OnePlus 3 (Soft Gold, 64 GB)         1555\n",
       "Name: score, dtype: int64"
      ]
     },
     "execution_count": 164,
     "metadata": {},
     "output_type": "execute_result"
    }
   ],
   "source": [
    "#Here we calculate the number of times the Product has been rated\n",
    "rating_by_product = df.groupby(by='product')['score'].count().sort_values(ascending=False)\n",
    "rating_by_product.head(5)"
   ]
  },
  {
   "cell_type": "markdown",
   "metadata": {},
   "source": [
    "## Here we are selecting the data with products having more than 50 ratings and also the users who have given more than 50 ratings."
   ]
  },
  {
   "cell_type": "code",
   "execution_count": 165,
   "metadata": {
    "ExecuteTime": {
     "end_time": "2021-05-20T10:53:26.276951Z",
     "start_time": "2021-05-20T10:53:24.706853Z"
    }
   },
   "outputs": [
    {
     "data": {
      "text/html": [
       "<div>\n",
       "<style scoped>\n",
       "    .dataframe tbody tr th:only-of-type {\n",
       "        vertical-align: middle;\n",
       "    }\n",
       "\n",
       "    .dataframe tbody tr th {\n",
       "        vertical-align: top;\n",
       "    }\n",
       "\n",
       "    .dataframe thead th {\n",
       "        text-align: right;\n",
       "    }\n",
       "</style>\n",
       "<table border=\"1\" class=\"dataframe\">\n",
       "  <thead>\n",
       "    <tr style=\"text-align: right;\">\n",
       "      <th></th>\n",
       "      <th>author</th>\n",
       "      <th>product</th>\n",
       "      <th>score</th>\n",
       "    </tr>\n",
       "  </thead>\n",
       "  <tbody>\n",
       "    <tr>\n",
       "      <th>746232</th>\n",
       "      <td>M.</td>\n",
       "      <td>BlackBerry Q10 SQN100-1 16GB 4G LTE Unlocked G...</td>\n",
       "      <td>6.0</td>\n",
       "    </tr>\n",
       "    <tr>\n",
       "      <th>1389526</th>\n",
       "      <td>Anonymous</td>\n",
       "      <td>Sharp TM150</td>\n",
       "      <td>10.0</td>\n",
       "    </tr>\n",
       "    <tr>\n",
       "      <th>669850</th>\n",
       "      <td>Steve</td>\n",
       "      <td>BLU Q170T Samba TV Unlocked Dual SIM Quad-Band...</td>\n",
       "      <td>8.0</td>\n",
       "    </tr>\n",
       "    <tr>\n",
       "      <th>343482</th>\n",
       "      <td>Andre</td>\n",
       "      <td>Samsung Galaxy S5 G900A AT&amp;T GSM Cellphone, 16...</td>\n",
       "      <td>10.0</td>\n",
       "    </tr>\n",
       "    <tr>\n",
       "      <th>173541</th>\n",
       "      <td>Amazon Customer</td>\n",
       "      <td>Huawei P8 Lite ALE-L21 16GB Gold, Dual Sim, 5-...</td>\n",
       "      <td>2.0</td>\n",
       "    </tr>\n",
       "  </tbody>\n",
       "</table>\n",
       "</div>"
      ],
      "text/plain": [
       "                  author                                            product  \\\n",
       "746232                M.  BlackBerry Q10 SQN100-1 16GB 4G LTE Unlocked G...   \n",
       "1389526        Anonymous                                        Sharp TM150   \n",
       "669850             Steve  BLU Q170T Samba TV Unlocked Dual SIM Quad-Band...   \n",
       "343482             Andre  Samsung Galaxy S5 G900A AT&T GSM Cellphone, 16...   \n",
       "173541   Amazon Customer  Huawei P8 Lite ALE-L21 16GB Gold, Dual Sim, 5-...   \n",
       "\n",
       "         score  \n",
       "746232     6.0  \n",
       "1389526   10.0  \n",
       "669850     8.0  \n",
       "343482    10.0  \n",
       "173541     2.0  "
      ]
     },
     "execution_count": 165,
     "metadata": {},
     "output_type": "execute_result"
    }
   ],
   "source": [
    "#Here we make a dataframe with above results consisting of only 3 attributes i.e. Author, Product and Score\n",
    "rating_count = df['author'].value_counts()\n",
    "top_products = df[df['author'].isin(rating_count[rating_count >= 50].index)]\n",
    "top_products.head()"
   ]
  },
  {
   "cell_type": "markdown",
   "metadata": {},
   "source": [
    "## Building a Popularity based model and recommending top 5 mobile phones"
   ]
  },
  {
   "cell_type": "code",
   "execution_count": 166,
   "metadata": {
    "ExecuteTime": {
     "end_time": "2021-05-20T10:53:40.236957Z",
     "start_time": "2021-05-20T10:53:39.204546Z"
    }
   },
   "outputs": [
    {
     "data": {
      "text/html": [
       "<div>\n",
       "<style scoped>\n",
       "    .dataframe tbody tr th:only-of-type {\n",
       "        vertical-align: middle;\n",
       "    }\n",
       "\n",
       "    .dataframe tbody tr th {\n",
       "        vertical-align: top;\n",
       "    }\n",
       "\n",
       "    .dataframe thead th {\n",
       "        text-align: right;\n",
       "    }\n",
       "</style>\n",
       "<table border=\"1\" class=\"dataframe\">\n",
       "  <thead>\n",
       "    <tr style=\"text-align: right;\">\n",
       "      <th></th>\n",
       "      <th>product</th>\n",
       "      <th>score</th>\n",
       "    </tr>\n",
       "  </thead>\n",
       "  <tbody>\n",
       "    <tr>\n",
       "      <th>0</th>\n",
       "      <td>'Smartphone Meizu Pro 5, 5,7 pouces avec Exyno...</td>\n",
       "      <td>1</td>\n",
       "    </tr>\n",
       "    <tr>\n",
       "      <th>1</th>\n",
       "      <td>'Sony Xperia X (F5122) â White â Dual Sim ...</td>\n",
       "      <td>1</td>\n",
       "    </tr>\n",
       "    <tr>\n",
       "      <th>2</th>\n",
       "      <td>'Sony Xperia X (F5122) â rosa â Dual Sim (...</td>\n",
       "      <td>1</td>\n",
       "    </tr>\n",
       "    <tr>\n",
       "      <th>3</th>\n",
       "      <td>(7.62 cm (3 )Afficheur/Ã©cran, 2 MPixCamÃ©ra;b...</td>\n",
       "      <td>1</td>\n",
       "    </tr>\n",
       "    <tr>\n",
       "      <th>4</th>\n",
       "      <td>(DG300 Versione Aggiornata)5'' DOOGEE VOYAGER2...</td>\n",
       "      <td>41</td>\n",
       "    </tr>\n",
       "  </tbody>\n",
       "</table>\n",
       "</div>"
      ],
      "text/plain": [
       "                                             product  score\n",
       "0  'Smartphone Meizu Pro 5, 5,7 pouces avec Exyno...      1\n",
       "1  'Sony Xperia X (F5122) â White â Dual Sim ...      1\n",
       "2  'Sony Xperia X (F5122) â rosa â Dual Sim (...      1\n",
       "3  (7.62 cm (3 )Afficheur/Ã©cran, 2 MPixCamÃ©ra;b...      1\n",
       "4  (DG300 Versione Aggiornata)5'' DOOGEE VOYAGER2...     41"
      ]
     },
     "execution_count": 166,
     "metadata": {},
     "output_type": "execute_result"
    }
   ],
   "source": [
    "#Here we calculate score based upon Rating given by the Authors.\n",
    "cut_off = df.groupby('product').agg({'author': 'count'}).reset_index()\n",
    "cut_off.rename(columns = {'author': 'score'},inplace=True)\n",
    "cut_off.head()"
   ]
  },
  {
   "cell_type": "code",
   "execution_count": 167,
   "metadata": {
    "ExecuteTime": {
     "end_time": "2021-05-20T10:54:02.181678Z",
     "start_time": "2021-05-20T10:54:01.987784Z"
    }
   },
   "outputs": [
    {
     "data": {
      "text/html": [
       "<div>\n",
       "<style scoped>\n",
       "    .dataframe tbody tr th:only-of-type {\n",
       "        vertical-align: middle;\n",
       "    }\n",
       "\n",
       "    .dataframe tbody tr th {\n",
       "        vertical-align: top;\n",
       "    }\n",
       "\n",
       "    .dataframe thead th {\n",
       "        text-align: right;\n",
       "    }\n",
       "</style>\n",
       "<table border=\"1\" class=\"dataframe\">\n",
       "  <thead>\n",
       "    <tr style=\"text-align: right;\">\n",
       "      <th></th>\n",
       "      <th>product</th>\n",
       "      <th>score</th>\n",
       "      <th>Rank</th>\n",
       "    </tr>\n",
       "  </thead>\n",
       "  <tbody>\n",
       "    <tr>\n",
       "      <th>30671</th>\n",
       "      <td>OnePlus 3 (Graphite, 64 GB)</td>\n",
       "      <td>1915</td>\n",
       "      <td>1.0</td>\n",
       "    </tr>\n",
       "    <tr>\n",
       "      <th>21112</th>\n",
       "      <td>Lenovo Vibe K4 Note (White,16GB)</td>\n",
       "      <td>1839</td>\n",
       "      <td>2.0</td>\n",
       "    </tr>\n",
       "    <tr>\n",
       "      <th>21111</th>\n",
       "      <td>Lenovo Vibe K4 Note (Black, 16GB)</td>\n",
       "      <td>1578</td>\n",
       "      <td>3.0</td>\n",
       "    </tr>\n",
       "    <tr>\n",
       "      <th>36304</th>\n",
       "      <td>Samsung Galaxy J3 (8GB)</td>\n",
       "      <td>1563</td>\n",
       "      <td>4.0</td>\n",
       "    </tr>\n",
       "    <tr>\n",
       "      <th>30672</th>\n",
       "      <td>OnePlus 3 (Soft Gold, 64 GB)</td>\n",
       "      <td>1555</td>\n",
       "      <td>5.0</td>\n",
       "    </tr>\n",
       "  </tbody>\n",
       "</table>\n",
       "</div>"
      ],
      "text/plain": [
       "                                 product  score  Rank\n",
       "30671        OnePlus 3 (Graphite, 64 GB)   1915   1.0\n",
       "21112   Lenovo Vibe K4 Note (White,16GB)   1839   2.0\n",
       "21111  Lenovo Vibe K4 Note (Black, 16GB)   1578   3.0\n",
       "36304            Samsung Galaxy J3 (8GB)   1563   4.0\n",
       "30672       OnePlus 3 (Soft Gold, 64 GB)   1555   5.0"
      ]
     },
     "execution_count": 167,
     "metadata": {},
     "output_type": "execute_result"
    }
   ],
   "source": [
    "#Here we are giving rank based upon rating given by the Authors.\n",
    "sorted_out = cut_off.sort_values(['score', 'product'], ascending = [0,1]) \n",
    "sorted_out['Rank'] = sorted_out['score'].rank(ascending=0, method='first')\n",
    "popularity_recommendation = sorted_out.head()\n",
    "popularity_recommendation"
   ]
  },
  {
   "cell_type": "code",
   "execution_count": 168,
   "metadata": {
    "ExecuteTime": {
     "end_time": "2021-05-20T10:54:13.596129Z",
     "start_time": "2021-05-20T10:54:13.583141Z"
    }
   },
   "outputs": [],
   "source": [
    " #Creating a function that will take 'User id' of 'Author' as an input and then give back 'Recommendations' as output.\n",
    " \n",
    " def Recommend(userID):     \n",
    "    user_recommendation = popularity_recommendation \n",
    "    user_recommendation['author'] = userID #Adding userID column for which the recommendations are being generated. \n",
    "    col = user_recommendation.columns.tolist() #Bringing userID column to the front.\n",
    "    col = col[-1:] + col[:-1] \n",
    "    user_recommendation = user_recommendation[col] \n",
    "          \n",
    "    return user_recommendation "
   ]
  },
  {
   "cell_type": "code",
   "execution_count": 169,
   "metadata": {
    "ExecuteTime": {
     "end_time": "2021-05-20T10:54:25.063561Z",
     "start_time": "2021-05-20T10:54:25.034579Z"
    }
   },
   "outputs": [
    {
     "data": {
      "text/html": [
       "<div>\n",
       "<style scoped>\n",
       "    .dataframe tbody tr th:only-of-type {\n",
       "        vertical-align: middle;\n",
       "    }\n",
       "\n",
       "    .dataframe tbody tr th {\n",
       "        vertical-align: top;\n",
       "    }\n",
       "\n",
       "    .dataframe thead th {\n",
       "        text-align: right;\n",
       "    }\n",
       "</style>\n",
       "<table border=\"1\" class=\"dataframe\">\n",
       "  <thead>\n",
       "    <tr style=\"text-align: right;\">\n",
       "      <th></th>\n",
       "      <th>author</th>\n",
       "      <th>product</th>\n",
       "      <th>score</th>\n",
       "      <th>Rank</th>\n",
       "    </tr>\n",
       "  </thead>\n",
       "  <tbody>\n",
       "    <tr>\n",
       "      <th>30671</th>\n",
       "      <td>100</td>\n",
       "      <td>OnePlus 3 (Graphite, 64 GB)</td>\n",
       "      <td>1915</td>\n",
       "      <td>1.0</td>\n",
       "    </tr>\n",
       "    <tr>\n",
       "      <th>21112</th>\n",
       "      <td>100</td>\n",
       "      <td>Lenovo Vibe K4 Note (White,16GB)</td>\n",
       "      <td>1839</td>\n",
       "      <td>2.0</td>\n",
       "    </tr>\n",
       "    <tr>\n",
       "      <th>21111</th>\n",
       "      <td>100</td>\n",
       "      <td>Lenovo Vibe K4 Note (Black, 16GB)</td>\n",
       "      <td>1578</td>\n",
       "      <td>3.0</td>\n",
       "    </tr>\n",
       "    <tr>\n",
       "      <th>36304</th>\n",
       "      <td>100</td>\n",
       "      <td>Samsung Galaxy J3 (8GB)</td>\n",
       "      <td>1563</td>\n",
       "      <td>4.0</td>\n",
       "    </tr>\n",
       "    <tr>\n",
       "      <th>30672</th>\n",
       "      <td>100</td>\n",
       "      <td>OnePlus 3 (Soft Gold, 64 GB)</td>\n",
       "      <td>1555</td>\n",
       "      <td>5.0</td>\n",
       "    </tr>\n",
       "  </tbody>\n",
       "</table>\n",
       "</div>"
      ],
      "text/plain": [
       "       author                            product  score  Rank\n",
       "30671     100        OnePlus 3 (Graphite, 64 GB)   1915   1.0\n",
       "21112     100   Lenovo Vibe K4 Note (White,16GB)   1839   2.0\n",
       "21111     100  Lenovo Vibe K4 Note (Black, 16GB)   1578   3.0\n",
       "36304     100            Samsung Galaxy J3 (8GB)   1563   4.0\n",
       "30672     100       OnePlus 3 (Soft Gold, 64 GB)   1555   5.0"
      ]
     },
     "execution_count": 169,
     "metadata": {},
     "output_type": "execute_result"
    }
   ],
   "source": [
    "#Testing Recommendation on random Authors\n",
    "Recommend(100)"
   ]
  },
  {
   "cell_type": "code",
   "execution_count": 170,
   "metadata": {
    "ExecuteTime": {
     "end_time": "2021-05-20T10:54:37.145639Z",
     "start_time": "2021-05-20T10:54:37.120654Z"
    }
   },
   "outputs": [
    {
     "data": {
      "text/html": [
       "<div>\n",
       "<style scoped>\n",
       "    .dataframe tbody tr th:only-of-type {\n",
       "        vertical-align: middle;\n",
       "    }\n",
       "\n",
       "    .dataframe tbody tr th {\n",
       "        vertical-align: top;\n",
       "    }\n",
       "\n",
       "    .dataframe thead th {\n",
       "        text-align: right;\n",
       "    }\n",
       "</style>\n",
       "<table border=\"1\" class=\"dataframe\">\n",
       "  <thead>\n",
       "    <tr style=\"text-align: right;\">\n",
       "      <th></th>\n",
       "      <th>author</th>\n",
       "      <th>product</th>\n",
       "      <th>score</th>\n",
       "      <th>Rank</th>\n",
       "    </tr>\n",
       "  </thead>\n",
       "  <tbody>\n",
       "    <tr>\n",
       "      <th>30671</th>\n",
       "      <td>1000</td>\n",
       "      <td>OnePlus 3 (Graphite, 64 GB)</td>\n",
       "      <td>1915</td>\n",
       "      <td>1.0</td>\n",
       "    </tr>\n",
       "    <tr>\n",
       "      <th>21112</th>\n",
       "      <td>1000</td>\n",
       "      <td>Lenovo Vibe K4 Note (White,16GB)</td>\n",
       "      <td>1839</td>\n",
       "      <td>2.0</td>\n",
       "    </tr>\n",
       "    <tr>\n",
       "      <th>21111</th>\n",
       "      <td>1000</td>\n",
       "      <td>Lenovo Vibe K4 Note (Black, 16GB)</td>\n",
       "      <td>1578</td>\n",
       "      <td>3.0</td>\n",
       "    </tr>\n",
       "    <tr>\n",
       "      <th>36304</th>\n",
       "      <td>1000</td>\n",
       "      <td>Samsung Galaxy J3 (8GB)</td>\n",
       "      <td>1563</td>\n",
       "      <td>4.0</td>\n",
       "    </tr>\n",
       "    <tr>\n",
       "      <th>30672</th>\n",
       "      <td>1000</td>\n",
       "      <td>OnePlus 3 (Soft Gold, 64 GB)</td>\n",
       "      <td>1555</td>\n",
       "      <td>5.0</td>\n",
       "    </tr>\n",
       "  </tbody>\n",
       "</table>\n",
       "</div>"
      ],
      "text/plain": [
       "       author                            product  score  Rank\n",
       "30671    1000        OnePlus 3 (Graphite, 64 GB)   1915   1.0\n",
       "21112    1000   Lenovo Vibe K4 Note (White,16GB)   1839   2.0\n",
       "21111    1000  Lenovo Vibe K4 Note (Black, 16GB)   1578   3.0\n",
       "36304    1000            Samsung Galaxy J3 (8GB)   1563   4.0\n",
       "30672    1000       OnePlus 3 (Soft Gold, 64 GB)   1555   5.0"
      ]
     },
     "execution_count": 170,
     "metadata": {},
     "output_type": "execute_result"
    }
   ],
   "source": [
    "Recommend(1000)"
   ]
  },
  {
   "cell_type": "markdown",
   "metadata": {},
   "source": [
    "## Collaborative filtering Model using SVD"
   ]
  },
  {
   "cell_type": "markdown",
   "metadata": {},
   "source": [
    "Building a collaborative filtering model using SVD. "
   ]
  },
  {
   "cell_type": "code",
   "execution_count": 171,
   "metadata": {
    "ExecuteTime": {
     "end_time": "2021-05-20T10:54:48.728007Z",
     "start_time": "2021-05-20T10:54:48.718032Z"
    }
   },
   "outputs": [
    {
     "data": {
      "text/plain": [
       "(1000000, 3)"
      ]
     },
     "execution_count": 171,
     "metadata": {},
     "output_type": "execute_result"
    }
   ],
   "source": [
    "# Shape of the dataframe\n",
    "df.shape"
   ]
  },
  {
   "cell_type": "code",
   "execution_count": 172,
   "metadata": {
    "ExecuteTime": {
     "end_time": "2021-05-20T10:55:01.306311Z",
     "start_time": "2021-05-20T10:55:01.211179Z"
    }
   },
   "outputs": [
    {
     "data": {
      "text/plain": [
       "(5000, 3)"
      ]
     },
     "execution_count": 172,
     "metadata": {},
     "output_type": "execute_result"
    }
   ],
   "source": [
    "#Limiting dataset to 50000 records and sampling these records randomly\n",
    "df = df.sample(n=5000,random_state=612)\n",
    "df.shape #checking dimensions of the dataframe again"
   ]
  },
  {
   "cell_type": "code",
   "execution_count": 173,
   "metadata": {
    "ExecuteTime": {
     "end_time": "2021-05-20T10:55:14.469775Z",
     "start_time": "2021-05-20T10:55:14.441793Z"
    }
   },
   "outputs": [],
   "source": [
    "#Calculating Number of times the user have rated a Product.\n",
    "rating_per_product = df.groupby(by='product')['score'].count().sort_values(ascending=False)"
   ]
  },
  {
   "cell_type": "code",
   "execution_count": 174,
   "metadata": {
    "ExecuteTime": {
     "end_time": "2021-05-20T10:55:27.340404Z",
     "start_time": "2021-05-20T10:55:27.329414Z"
    }
   },
   "outputs": [],
   "source": [
    "# Dropping features other than Author, Product and Score\n",
    "df.drop(df.columns.difference(['author','product','score']),inplace=True,axis=1)"
   ]
  },
  {
   "cell_type": "code",
   "execution_count": 175,
   "metadata": {
    "ExecuteTime": {
     "end_time": "2021-05-20T10:55:39.156655Z",
     "start_time": "2021-05-20T10:55:39.130649Z"
    }
   },
   "outputs": [
    {
     "data": {
      "text/plain": [
       "4717"
      ]
     },
     "execution_count": 175,
     "metadata": {},
     "output_type": "execute_result"
    }
   ],
   "source": [
    "#Checking for unique users in the sampled dataset.\n",
    "df['author'].nunique()"
   ]
  },
  {
   "cell_type": "code",
   "execution_count": 176,
   "metadata": {
    "ExecuteTime": {
     "end_time": "2021-05-20T10:55:50.775977Z",
     "start_time": "2021-05-20T10:55:50.747994Z"
    }
   },
   "outputs": [
    {
     "data": {
      "text/plain": [
       "3940"
      ]
     },
     "execution_count": 176,
     "metadata": {},
     "output_type": "execute_result"
    }
   ],
   "source": [
    "#Checking for unique products in the sampled dataset.\n",
    "df['product'].nunique()"
   ]
  },
  {
   "cell_type": "code",
   "execution_count": 177,
   "metadata": {
    "ExecuteTime": {
     "end_time": "2021-05-20T10:56:02.351350Z",
     "start_time": "2021-05-20T10:56:02.294380Z"
    }
   },
   "outputs": [],
   "source": [
    "#initiating LabelEncoder\n",
    "le = LabelEncoder()\n",
    "#Encoding 'author' and 'product' as unique integers for ease.\n",
    "df['author'] = le.fit_transform(df['author'])\n",
    "df['product'] = le.fit_transform(df['product'])"
   ]
  },
  {
   "cell_type": "code",
   "execution_count": 178,
   "metadata": {
    "ExecuteTime": {
     "end_time": "2021-05-20T10:56:13.466359Z",
     "start_time": "2021-05-20T10:56:13.441372Z"
    }
   },
   "outputs": [
    {
     "data": {
      "text/html": [
       "<div>\n",
       "<style scoped>\n",
       "    .dataframe tbody tr th:only-of-type {\n",
       "        vertical-align: middle;\n",
       "    }\n",
       "\n",
       "    .dataframe tbody tr th {\n",
       "        vertical-align: top;\n",
       "    }\n",
       "\n",
       "    .dataframe thead th {\n",
       "        text-align: right;\n",
       "    }\n",
       "</style>\n",
       "<table border=\"1\" class=\"dataframe\">\n",
       "  <thead>\n",
       "    <tr style=\"text-align: right;\">\n",
       "      <th></th>\n",
       "      <th>author</th>\n",
       "      <th>product</th>\n",
       "      <th>score</th>\n",
       "    </tr>\n",
       "  </thead>\n",
       "  <tbody>\n",
       "    <tr>\n",
       "      <th>636764</th>\n",
       "      <td>461</td>\n",
       "      <td>404</td>\n",
       "      <td>4.0</td>\n",
       "    </tr>\n",
       "    <tr>\n",
       "      <th>862691</th>\n",
       "      <td>3347</td>\n",
       "      <td>866</td>\n",
       "      <td>10.0</td>\n",
       "    </tr>\n",
       "    <tr>\n",
       "      <th>465184</th>\n",
       "      <td>2294</td>\n",
       "      <td>2919</td>\n",
       "      <td>4.0</td>\n",
       "    </tr>\n",
       "    <tr>\n",
       "      <th>968849</th>\n",
       "      <td>3673</td>\n",
       "      <td>894</td>\n",
       "      <td>2.0</td>\n",
       "    </tr>\n",
       "    <tr>\n",
       "      <th>129553</th>\n",
       "      <td>3917</td>\n",
       "      <td>2657</td>\n",
       "      <td>10.0</td>\n",
       "    </tr>\n",
       "  </tbody>\n",
       "</table>\n",
       "</div>"
      ],
      "text/plain": [
       "        author  product  score\n",
       "636764     461      404    4.0\n",
       "862691    3347      866   10.0\n",
       "465184    2294     2919    4.0\n",
       "968849    3673      894    2.0\n",
       "129553    3917     2657   10.0"
      ]
     },
     "execution_count": 178,
     "metadata": {},
     "output_type": "execute_result"
    }
   ],
   "source": [
    "#checking encoding\n",
    "df.head()"
   ]
  },
  {
   "cell_type": "code",
   "execution_count": 179,
   "metadata": {
    "ExecuteTime": {
     "end_time": "2021-05-20T10:56:26.002176Z",
     "start_time": "2021-05-20T10:56:24.757889Z"
    }
   },
   "outputs": [
    {
     "data": {
      "text/html": [
       "<div>\n",
       "<style scoped>\n",
       "    .dataframe tbody tr th:only-of-type {\n",
       "        vertical-align: middle;\n",
       "    }\n",
       "\n",
       "    .dataframe tbody tr th {\n",
       "        vertical-align: top;\n",
       "    }\n",
       "\n",
       "    .dataframe thead th {\n",
       "        text-align: right;\n",
       "    }\n",
       "</style>\n",
       "<table border=\"1\" class=\"dataframe\">\n",
       "  <thead>\n",
       "    <tr style=\"text-align: right;\">\n",
       "      <th>author</th>\n",
       "      <th>0</th>\n",
       "      <th>1</th>\n",
       "      <th>2</th>\n",
       "      <th>3</th>\n",
       "      <th>4</th>\n",
       "      <th>5</th>\n",
       "      <th>6</th>\n",
       "      <th>7</th>\n",
       "      <th>8</th>\n",
       "      <th>9</th>\n",
       "      <th>...</th>\n",
       "      <th>4707</th>\n",
       "      <th>4708</th>\n",
       "      <th>4709</th>\n",
       "      <th>4710</th>\n",
       "      <th>4711</th>\n",
       "      <th>4712</th>\n",
       "      <th>4713</th>\n",
       "      <th>4714</th>\n",
       "      <th>4715</th>\n",
       "      <th>4716</th>\n",
       "    </tr>\n",
       "    <tr>\n",
       "      <th>product</th>\n",
       "      <th></th>\n",
       "      <th></th>\n",
       "      <th></th>\n",
       "      <th></th>\n",
       "      <th></th>\n",
       "      <th></th>\n",
       "      <th></th>\n",
       "      <th></th>\n",
       "      <th></th>\n",
       "      <th></th>\n",
       "      <th></th>\n",
       "      <th></th>\n",
       "      <th></th>\n",
       "      <th></th>\n",
       "      <th></th>\n",
       "      <th></th>\n",
       "      <th></th>\n",
       "      <th></th>\n",
       "      <th></th>\n",
       "      <th></th>\n",
       "      <th></th>\n",
       "    </tr>\n",
       "  </thead>\n",
       "  <tbody>\n",
       "    <tr>\n",
       "      <th>0</th>\n",
       "      <td>0.0</td>\n",
       "      <td>0.0</td>\n",
       "      <td>0.0</td>\n",
       "      <td>0.0</td>\n",
       "      <td>0.0</td>\n",
       "      <td>0.0</td>\n",
       "      <td>0.0</td>\n",
       "      <td>0.0</td>\n",
       "      <td>0.0</td>\n",
       "      <td>0.0</td>\n",
       "      <td>...</td>\n",
       "      <td>0.0</td>\n",
       "      <td>0.0</td>\n",
       "      <td>0.0</td>\n",
       "      <td>0.0</td>\n",
       "      <td>0.0</td>\n",
       "      <td>0.0</td>\n",
       "      <td>0.0</td>\n",
       "      <td>0.0</td>\n",
       "      <td>0.0</td>\n",
       "      <td>0.0</td>\n",
       "    </tr>\n",
       "    <tr>\n",
       "      <th>1</th>\n",
       "      <td>0.0</td>\n",
       "      <td>0.0</td>\n",
       "      <td>0.0</td>\n",
       "      <td>0.0</td>\n",
       "      <td>0.0</td>\n",
       "      <td>0.0</td>\n",
       "      <td>0.0</td>\n",
       "      <td>0.0</td>\n",
       "      <td>0.0</td>\n",
       "      <td>0.0</td>\n",
       "      <td>...</td>\n",
       "      <td>0.0</td>\n",
       "      <td>0.0</td>\n",
       "      <td>0.0</td>\n",
       "      <td>0.0</td>\n",
       "      <td>0.0</td>\n",
       "      <td>0.0</td>\n",
       "      <td>0.0</td>\n",
       "      <td>0.0</td>\n",
       "      <td>0.0</td>\n",
       "      <td>0.0</td>\n",
       "    </tr>\n",
       "    <tr>\n",
       "      <th>2</th>\n",
       "      <td>0.0</td>\n",
       "      <td>0.0</td>\n",
       "      <td>0.0</td>\n",
       "      <td>0.0</td>\n",
       "      <td>0.0</td>\n",
       "      <td>0.0</td>\n",
       "      <td>0.0</td>\n",
       "      <td>0.0</td>\n",
       "      <td>0.0</td>\n",
       "      <td>0.0</td>\n",
       "      <td>...</td>\n",
       "      <td>0.0</td>\n",
       "      <td>0.0</td>\n",
       "      <td>0.0</td>\n",
       "      <td>0.0</td>\n",
       "      <td>0.0</td>\n",
       "      <td>0.0</td>\n",
       "      <td>0.0</td>\n",
       "      <td>0.0</td>\n",
       "      <td>0.0</td>\n",
       "      <td>0.0</td>\n",
       "    </tr>\n",
       "    <tr>\n",
       "      <th>3</th>\n",
       "      <td>0.0</td>\n",
       "      <td>0.0</td>\n",
       "      <td>0.0</td>\n",
       "      <td>0.0</td>\n",
       "      <td>0.0</td>\n",
       "      <td>0.0</td>\n",
       "      <td>0.0</td>\n",
       "      <td>0.0</td>\n",
       "      <td>0.0</td>\n",
       "      <td>0.0</td>\n",
       "      <td>...</td>\n",
       "      <td>0.0</td>\n",
       "      <td>0.0</td>\n",
       "      <td>0.0</td>\n",
       "      <td>0.0</td>\n",
       "      <td>0.0</td>\n",
       "      <td>0.0</td>\n",
       "      <td>0.0</td>\n",
       "      <td>0.0</td>\n",
       "      <td>0.0</td>\n",
       "      <td>0.0</td>\n",
       "    </tr>\n",
       "    <tr>\n",
       "      <th>4</th>\n",
       "      <td>0.0</td>\n",
       "      <td>0.0</td>\n",
       "      <td>0.0</td>\n",
       "      <td>0.0</td>\n",
       "      <td>0.0</td>\n",
       "      <td>0.0</td>\n",
       "      <td>0.0</td>\n",
       "      <td>0.0</td>\n",
       "      <td>0.0</td>\n",
       "      <td>0.0</td>\n",
       "      <td>...</td>\n",
       "      <td>0.0</td>\n",
       "      <td>0.0</td>\n",
       "      <td>0.0</td>\n",
       "      <td>0.0</td>\n",
       "      <td>0.0</td>\n",
       "      <td>0.0</td>\n",
       "      <td>0.0</td>\n",
       "      <td>0.0</td>\n",
       "      <td>0.0</td>\n",
       "      <td>0.0</td>\n",
       "    </tr>\n",
       "    <tr>\n",
       "      <th>...</th>\n",
       "      <td>...</td>\n",
       "      <td>...</td>\n",
       "      <td>...</td>\n",
       "      <td>...</td>\n",
       "      <td>...</td>\n",
       "      <td>...</td>\n",
       "      <td>...</td>\n",
       "      <td>...</td>\n",
       "      <td>...</td>\n",
       "      <td>...</td>\n",
       "      <td>...</td>\n",
       "      <td>...</td>\n",
       "      <td>...</td>\n",
       "      <td>...</td>\n",
       "      <td>...</td>\n",
       "      <td>...</td>\n",
       "      <td>...</td>\n",
       "      <td>...</td>\n",
       "      <td>...</td>\n",
       "      <td>...</td>\n",
       "      <td>...</td>\n",
       "    </tr>\n",
       "    <tr>\n",
       "      <th>3935</th>\n",
       "      <td>0.0</td>\n",
       "      <td>0.0</td>\n",
       "      <td>0.0</td>\n",
       "      <td>0.0</td>\n",
       "      <td>0.0</td>\n",
       "      <td>0.0</td>\n",
       "      <td>0.0</td>\n",
       "      <td>0.0</td>\n",
       "      <td>0.0</td>\n",
       "      <td>0.0</td>\n",
       "      <td>...</td>\n",
       "      <td>0.0</td>\n",
       "      <td>0.0</td>\n",
       "      <td>0.0</td>\n",
       "      <td>0.0</td>\n",
       "      <td>0.0</td>\n",
       "      <td>0.0</td>\n",
       "      <td>0.0</td>\n",
       "      <td>0.0</td>\n",
       "      <td>0.0</td>\n",
       "      <td>0.0</td>\n",
       "    </tr>\n",
       "    <tr>\n",
       "      <th>3936</th>\n",
       "      <td>0.0</td>\n",
       "      <td>0.0</td>\n",
       "      <td>0.0</td>\n",
       "      <td>0.0</td>\n",
       "      <td>0.0</td>\n",
       "      <td>0.0</td>\n",
       "      <td>0.0</td>\n",
       "      <td>0.0</td>\n",
       "      <td>0.0</td>\n",
       "      <td>0.0</td>\n",
       "      <td>...</td>\n",
       "      <td>0.0</td>\n",
       "      <td>0.0</td>\n",
       "      <td>0.0</td>\n",
       "      <td>0.0</td>\n",
       "      <td>0.0</td>\n",
       "      <td>0.0</td>\n",
       "      <td>0.0</td>\n",
       "      <td>0.0</td>\n",
       "      <td>0.0</td>\n",
       "      <td>0.0</td>\n",
       "    </tr>\n",
       "    <tr>\n",
       "      <th>3937</th>\n",
       "      <td>0.0</td>\n",
       "      <td>0.0</td>\n",
       "      <td>0.0</td>\n",
       "      <td>0.0</td>\n",
       "      <td>0.0</td>\n",
       "      <td>0.0</td>\n",
       "      <td>0.0</td>\n",
       "      <td>0.0</td>\n",
       "      <td>0.0</td>\n",
       "      <td>0.0</td>\n",
       "      <td>...</td>\n",
       "      <td>0.0</td>\n",
       "      <td>0.0</td>\n",
       "      <td>0.0</td>\n",
       "      <td>0.0</td>\n",
       "      <td>0.0</td>\n",
       "      <td>0.0</td>\n",
       "      <td>0.0</td>\n",
       "      <td>0.0</td>\n",
       "      <td>0.0</td>\n",
       "      <td>0.0</td>\n",
       "    </tr>\n",
       "    <tr>\n",
       "      <th>3938</th>\n",
       "      <td>0.0</td>\n",
       "      <td>0.0</td>\n",
       "      <td>0.0</td>\n",
       "      <td>0.0</td>\n",
       "      <td>0.0</td>\n",
       "      <td>0.0</td>\n",
       "      <td>0.0</td>\n",
       "      <td>0.0</td>\n",
       "      <td>0.0</td>\n",
       "      <td>0.0</td>\n",
       "      <td>...</td>\n",
       "      <td>0.0</td>\n",
       "      <td>0.0</td>\n",
       "      <td>0.0</td>\n",
       "      <td>0.0</td>\n",
       "      <td>0.0</td>\n",
       "      <td>0.0</td>\n",
       "      <td>0.0</td>\n",
       "      <td>0.0</td>\n",
       "      <td>0.0</td>\n",
       "      <td>0.0</td>\n",
       "    </tr>\n",
       "    <tr>\n",
       "      <th>3939</th>\n",
       "      <td>0.0</td>\n",
       "      <td>0.0</td>\n",
       "      <td>0.0</td>\n",
       "      <td>0.0</td>\n",
       "      <td>0.0</td>\n",
       "      <td>0.0</td>\n",
       "      <td>0.0</td>\n",
       "      <td>0.0</td>\n",
       "      <td>0.0</td>\n",
       "      <td>0.0</td>\n",
       "      <td>...</td>\n",
       "      <td>0.0</td>\n",
       "      <td>0.0</td>\n",
       "      <td>0.0</td>\n",
       "      <td>0.0</td>\n",
       "      <td>0.0</td>\n",
       "      <td>0.0</td>\n",
       "      <td>0.0</td>\n",
       "      <td>0.0</td>\n",
       "      <td>0.0</td>\n",
       "      <td>0.0</td>\n",
       "    </tr>\n",
       "  </tbody>\n",
       "</table>\n",
       "<p>3940 rows × 4717 columns</p>\n",
       "</div>"
      ],
      "text/plain": [
       "author   0     1     2     3     4     5     6     7     8     9     ...  \\\n",
       "product                                                              ...   \n",
       "0         0.0   0.0   0.0   0.0   0.0   0.0   0.0   0.0   0.0   0.0  ...   \n",
       "1         0.0   0.0   0.0   0.0   0.0   0.0   0.0   0.0   0.0   0.0  ...   \n",
       "2         0.0   0.0   0.0   0.0   0.0   0.0   0.0   0.0   0.0   0.0  ...   \n",
       "3         0.0   0.0   0.0   0.0   0.0   0.0   0.0   0.0   0.0   0.0  ...   \n",
       "4         0.0   0.0   0.0   0.0   0.0   0.0   0.0   0.0   0.0   0.0  ...   \n",
       "...       ...   ...   ...   ...   ...   ...   ...   ...   ...   ...  ...   \n",
       "3935      0.0   0.0   0.0   0.0   0.0   0.0   0.0   0.0   0.0   0.0  ...   \n",
       "3936      0.0   0.0   0.0   0.0   0.0   0.0   0.0   0.0   0.0   0.0  ...   \n",
       "3937      0.0   0.0   0.0   0.0   0.0   0.0   0.0   0.0   0.0   0.0  ...   \n",
       "3938      0.0   0.0   0.0   0.0   0.0   0.0   0.0   0.0   0.0   0.0  ...   \n",
       "3939      0.0   0.0   0.0   0.0   0.0   0.0   0.0   0.0   0.0   0.0  ...   \n",
       "\n",
       "author   4707  4708  4709  4710  4711  4712  4713  4714  4715  4716  \n",
       "product                                                              \n",
       "0         0.0   0.0   0.0   0.0   0.0   0.0   0.0   0.0   0.0   0.0  \n",
       "1         0.0   0.0   0.0   0.0   0.0   0.0   0.0   0.0   0.0   0.0  \n",
       "2         0.0   0.0   0.0   0.0   0.0   0.0   0.0   0.0   0.0   0.0  \n",
       "3         0.0   0.0   0.0   0.0   0.0   0.0   0.0   0.0   0.0   0.0  \n",
       "4         0.0   0.0   0.0   0.0   0.0   0.0   0.0   0.0   0.0   0.0  \n",
       "...       ...   ...   ...   ...   ...   ...   ...   ...   ...   ...  \n",
       "3935      0.0   0.0   0.0   0.0   0.0   0.0   0.0   0.0   0.0   0.0  \n",
       "3936      0.0   0.0   0.0   0.0   0.0   0.0   0.0   0.0   0.0   0.0  \n",
       "3937      0.0   0.0   0.0   0.0   0.0   0.0   0.0   0.0   0.0   0.0  \n",
       "3938      0.0   0.0   0.0   0.0   0.0   0.0   0.0   0.0   0.0   0.0  \n",
       "3939      0.0   0.0   0.0   0.0   0.0   0.0   0.0   0.0   0.0   0.0  \n",
       "\n",
       "[3940 rows x 4717 columns]"
      ]
     },
     "execution_count": 179,
     "metadata": {},
     "output_type": "execute_result"
    }
   ],
   "source": [
    "# Applying Pivot 'Product Vs Users' and allocating Ratings as values. \n",
    "# 0 indicates that user has not rated the product yet.\n",
    "df.set_index('product',inplace=True)\n",
    "pivot_data = df.pivot_table(index='product',columns='author',values='score',aggfunc=np.mean).fillna(0)\n",
    "pivot_data"
   ]
  },
  {
   "cell_type": "markdown",
   "metadata": {},
   "source": [
    "Applying SVD to the pivoted data and limitng singular values or vectors to 50 and assigning values to U, Sigma and Vt "
   ]
  },
  {
   "cell_type": "code",
   "execution_count": 180,
   "metadata": {
    "ExecuteTime": {
     "end_time": "2021-05-20T10:56:54.489854Z",
     "start_time": "2021-05-20T10:56:38.289140Z"
    }
   },
   "outputs": [],
   "source": [
    "U, sigma, Vt = svds(pivot_data, k = 50) "
   ]
  },
  {
   "cell_type": "code",
   "execution_count": 181,
   "metadata": {
    "ExecuteTime": {
     "end_time": "2021-05-20T10:57:07.116624Z",
     "start_time": "2021-05-20T10:57:07.105628Z"
    }
   },
   "outputs": [
    {
     "data": {
      "text/plain": [
       "array([[-4.11756114e-21,  4.41543824e-23, -4.47749707e-18, ...,\n",
       "        -1.18336931e-18, -1.94969575e-18, -4.11149531e-19],\n",
       "       [ 1.02291631e-18, -1.02834187e-20,  8.16613582e-19, ...,\n",
       "         5.09319079e-19,  4.98704556e-18, -1.34352316e-18],\n",
       "       [-1.13198536e-21,  9.39892950e-24,  3.43253527e-18, ...,\n",
       "         1.76728159e-18,  1.56433145e-19, -2.88794405e-18],\n",
       "       ...,\n",
       "       [-1.19739747e-20,  1.32601338e-19, -5.99377977e-19, ...,\n",
       "         7.71879281e-19,  4.22863724e-18, -2.95494448e-18],\n",
       "       [-2.74914407e-20,  6.37072611e-21,  7.90375781e-19, ...,\n",
       "         1.67262208e-18,  2.31937268e-17, -1.43779723e-17],\n",
       "       [ 6.28461599e-21, -6.35895387e-23,  2.60948834e-18, ...,\n",
       "         2.21425795e-18,  2.85903150e-18,  5.47110149e-19]])"
      ]
     },
     "execution_count": 181,
     "metadata": {},
     "output_type": "execute_result"
    }
   ],
   "source": [
    "# Verification of assigning of U\n",
    "U"
   ]
  },
  {
   "cell_type": "code",
   "execution_count": 182,
   "metadata": {
    "ExecuteTime": {
     "end_time": "2021-05-20T10:57:19.063777Z",
     "start_time": "2021-05-20T10:57:19.049787Z"
    }
   },
   "outputs": [
    {
     "data": {
      "text/plain": [
       "array([20.        , 20.        , 20.        , 20.        , 20.        ,\n",
       "       20.        , 20.        , 20.08944121, 20.22374842, 20.22374842,\n",
       "       20.23944342, 20.32240143, 20.32240143, 20.59126028, 20.68816087,\n",
       "       20.74313293, 21.04165761, 21.28379665, 21.34638658, 21.47091055,\n",
       "       21.54065923, 21.54065923, 21.67948339, 21.9089023 , 22.36067977,\n",
       "       22.36067977, 22.54952208, 22.55673137, 22.97825059, 23.15167381,\n",
       "       23.53578663, 24.67792536, 25.21904043, 25.3968502 , 25.47152182,\n",
       "       25.61249695, 25.76819745, 25.7812022 , 25.84569597, 26.45751311,\n",
       "       26.55183609, 27.27636339, 27.48201398, 28.05907415, 28.14249456,\n",
       "       29.01895008, 29.06888371, 29.39387691, 46.15096519, 66.67807299])"
      ]
     },
     "execution_count": 182,
     "metadata": {},
     "output_type": "execute_result"
    }
   ],
   "source": [
    "# Verification of assigning of sigma\n",
    "sigma"
   ]
  },
  {
   "cell_type": "code",
   "execution_count": 183,
   "metadata": {
    "ExecuteTime": {
     "end_time": "2021-05-20T10:57:31.521641Z",
     "start_time": "2021-05-20T10:57:31.512649Z"
    }
   },
   "outputs": [
    {
     "data": {
      "text/plain": [
       "array([[ 6.67678911e-21, -7.21960284e-21,  1.06896731e-21, ...,\n",
       "        -3.03045227e-23, -3.09830746e-21, -4.98950487e-21],\n",
       "       [-9.94854637e-23,  7.48081464e-23, -1.21350455e-23, ...,\n",
       "         2.46940605e-26,  4.51010270e-23,  5.54663061e-23],\n",
       "       [ 9.44823787e-19, -3.07844486e-20, -1.07431332e-18, ...,\n",
       "         1.11792816e-18, -4.08798081e-19,  2.57413656e-18],\n",
       "       ...,\n",
       "       [ 1.54046759e-18, -1.69229360e-18,  3.96010418e-20, ...,\n",
       "         3.84842954e-20, -4.72362775e-19, -1.17014795e-18],\n",
       "       [ 1.32993104e-18, -1.24900642e-18, -7.52392560e-20, ...,\n",
       "         4.05225070e-22,  8.81832255e-19, -1.06119156e-18],\n",
       "       [ 1.00982988e-19, -1.71196168e-19,  6.28542381e-20, ...,\n",
       "        -2.75476957e-20,  5.00766129e-19, -1.71451780e-19]])"
      ]
     },
     "execution_count": 183,
     "metadata": {},
     "output_type": "execute_result"
    }
   ],
   "source": [
    "# Verification of assigning of Vt\n",
    "Vt"
   ]
  },
  {
   "cell_type": "code",
   "execution_count": 184,
   "metadata": {
    "ExecuteTime": {
     "end_time": "2021-05-20T10:57:44.269346Z",
     "start_time": "2021-05-20T10:57:44.260344Z"
    }
   },
   "outputs": [],
   "source": [
    "# Extracting Diagonal Array out of sigma\n",
    "sigma = np.diag(sigma)"
   ]
  },
  {
   "cell_type": "code",
   "execution_count": 185,
   "metadata": {
    "ExecuteTime": {
     "end_time": "2021-05-20T10:57:57.072647Z",
     "start_time": "2021-05-20T10:57:56.887753Z"
    }
   },
   "outputs": [],
   "source": [
    "# Performing Dot Products to assign values for predictions\n",
    "predictions_ratings = np.dot(np.dot(U, sigma), Vt) "
   ]
  },
  {
   "cell_type": "code",
   "execution_count": 186,
   "metadata": {
    "ExecuteTime": {
     "end_time": "2021-05-20T10:58:09.360608Z",
     "start_time": "2021-05-20T10:58:09.350614Z"
    }
   },
   "outputs": [],
   "source": [
    "# Creating new DataFrame for Predictions\n",
    "df_predict = pd.DataFrame(predictions_ratings, columns = pivot_data.columns)"
   ]
  },
  {
   "cell_type": "code",
   "execution_count": 187,
   "metadata": {
    "ExecuteTime": {
     "end_time": "2021-05-20T10:58:24.669837Z",
     "start_time": "2021-05-20T10:58:24.597880Z"
    }
   },
   "outputs": [
    {
     "data": {
      "text/html": [
       "<div>\n",
       "<style scoped>\n",
       "    .dataframe tbody tr th:only-of-type {\n",
       "        vertical-align: middle;\n",
       "    }\n",
       "\n",
       "    .dataframe tbody tr th {\n",
       "        vertical-align: top;\n",
       "    }\n",
       "\n",
       "    .dataframe thead th {\n",
       "        text-align: right;\n",
       "    }\n",
       "</style>\n",
       "<table border=\"1\" class=\"dataframe\">\n",
       "  <thead>\n",
       "    <tr style=\"text-align: right;\">\n",
       "      <th>author</th>\n",
       "      <th>0</th>\n",
       "      <th>1</th>\n",
       "      <th>2</th>\n",
       "      <th>3</th>\n",
       "      <th>4</th>\n",
       "      <th>5</th>\n",
       "      <th>6</th>\n",
       "      <th>7</th>\n",
       "      <th>8</th>\n",
       "      <th>9</th>\n",
       "      <th>...</th>\n",
       "      <th>4707</th>\n",
       "      <th>4708</th>\n",
       "      <th>4709</th>\n",
       "      <th>4710</th>\n",
       "      <th>4711</th>\n",
       "      <th>4712</th>\n",
       "      <th>4713</th>\n",
       "      <th>4714</th>\n",
       "      <th>4715</th>\n",
       "      <th>4716</th>\n",
       "    </tr>\n",
       "  </thead>\n",
       "  <tbody>\n",
       "    <tr>\n",
       "      <th>0</th>\n",
       "      <td>-2.054914e-33</td>\n",
       "      <td>2.570151e-33</td>\n",
       "      <td>1.157616e-34</td>\n",
       "      <td>3.287872e-34</td>\n",
       "      <td>3.812367e-34</td>\n",
       "      <td>-4.793875e-34</td>\n",
       "      <td>-4.695994e-34</td>\n",
       "      <td>-1.232528e-34</td>\n",
       "      <td>1.055014e-33</td>\n",
       "      <td>-1.005412e-17</td>\n",
       "      <td>...</td>\n",
       "      <td>1.136644e-33</td>\n",
       "      <td>1.608428e-33</td>\n",
       "      <td>2.924663e-35</td>\n",
       "      <td>1.649036e-33</td>\n",
       "      <td>6.156768e-34</td>\n",
       "      <td>-1.491280e-33</td>\n",
       "      <td>-1.984722e-33</td>\n",
       "      <td>-7.014097e-35</td>\n",
       "      <td>-1.074923e-33</td>\n",
       "      <td>1.522006e-33</td>\n",
       "    </tr>\n",
       "    <tr>\n",
       "      <th>1</th>\n",
       "      <td>-1.256803e-33</td>\n",
       "      <td>1.964473e-33</td>\n",
       "      <td>-1.610920e-34</td>\n",
       "      <td>2.997556e-33</td>\n",
       "      <td>2.701372e-34</td>\n",
       "      <td>-3.953671e-34</td>\n",
       "      <td>3.186000e-34</td>\n",
       "      <td>-3.660540e-34</td>\n",
       "      <td>6.660114e-34</td>\n",
       "      <td>9.368030e-17</td>\n",
       "      <td>...</td>\n",
       "      <td>-2.441914e-31</td>\n",
       "      <td>1.228365e-33</td>\n",
       "      <td>3.476966e-34</td>\n",
       "      <td>1.313618e-31</td>\n",
       "      <td>4.025139e-34</td>\n",
       "      <td>-1.296586e-32</td>\n",
       "      <td>-2.379669e-32</td>\n",
       "      <td>1.875970e-35</td>\n",
       "      <td>-7.377819e-33</td>\n",
       "      <td>1.634667e-33</td>\n",
       "    </tr>\n",
       "    <tr>\n",
       "      <th>2</th>\n",
       "      <td>-7.776122e-34</td>\n",
       "      <td>1.252946e-33</td>\n",
       "      <td>-1.005908e-34</td>\n",
       "      <td>9.087942e-34</td>\n",
       "      <td>6.193247e-35</td>\n",
       "      <td>-2.115716e-34</td>\n",
       "      <td>-3.795859e-33</td>\n",
       "      <td>-3.549005e-34</td>\n",
       "      <td>3.175654e-34</td>\n",
       "      <td>-1.186213e-17</td>\n",
       "      <td>...</td>\n",
       "      <td>2.169266e-32</td>\n",
       "      <td>4.091245e-34</td>\n",
       "      <td>2.740647e-35</td>\n",
       "      <td>1.808003e-32</td>\n",
       "      <td>1.977316e-34</td>\n",
       "      <td>6.385396e-33</td>\n",
       "      <td>9.808713e-33</td>\n",
       "      <td>2.718291e-34</td>\n",
       "      <td>-2.620516e-33</td>\n",
       "      <td>9.983885e-34</td>\n",
       "    </tr>\n",
       "    <tr>\n",
       "      <th>3</th>\n",
       "      <td>-4.633858e-33</td>\n",
       "      <td>5.962125e-33</td>\n",
       "      <td>5.010227e-35</td>\n",
       "      <td>2.382767e-34</td>\n",
       "      <td>6.413053e-34</td>\n",
       "      <td>-9.733839e-34</td>\n",
       "      <td>-1.149801e-33</td>\n",
       "      <td>-8.498589e-34</td>\n",
       "      <td>2.235542e-33</td>\n",
       "      <td>-2.657779e-17</td>\n",
       "      <td>...</td>\n",
       "      <td>1.506230e-32</td>\n",
       "      <td>3.198650e-33</td>\n",
       "      <td>-9.644923e-35</td>\n",
       "      <td>3.683954e-33</td>\n",
       "      <td>1.180748e-33</td>\n",
       "      <td>-3.415395e-33</td>\n",
       "      <td>-5.915033e-33</td>\n",
       "      <td>6.900395e-35</td>\n",
       "      <td>-2.550497e-33</td>\n",
       "      <td>4.137473e-33</td>\n",
       "    </tr>\n",
       "    <tr>\n",
       "      <th>4</th>\n",
       "      <td>1.855982e-33</td>\n",
       "      <td>-2.473652e-33</td>\n",
       "      <td>4.712436e-35</td>\n",
       "      <td>1.782836e-34</td>\n",
       "      <td>-1.976308e-34</td>\n",
       "      <td>3.652283e-34</td>\n",
       "      <td>5.387395e-34</td>\n",
       "      <td>5.088808e-34</td>\n",
       "      <td>-8.663879e-34</td>\n",
       "      <td>1.027355e-17</td>\n",
       "      <td>...</td>\n",
       "      <td>-8.605890e-33</td>\n",
       "      <td>-1.180227e-33</td>\n",
       "      <td>6.998980e-35</td>\n",
       "      <td>-2.870668e-33</td>\n",
       "      <td>-4.185459e-34</td>\n",
       "      <td>1.900303e-33</td>\n",
       "      <td>3.618092e-33</td>\n",
       "      <td>-9.578891e-35</td>\n",
       "      <td>1.143816e-33</td>\n",
       "      <td>-1.850582e-33</td>\n",
       "    </tr>\n",
       "  </tbody>\n",
       "</table>\n",
       "<p>5 rows × 4717 columns</p>\n",
       "</div>"
      ],
      "text/plain": [
       "author          0             1             2             3             4     \\\n",
       "0      -2.054914e-33  2.570151e-33  1.157616e-34  3.287872e-34  3.812367e-34   \n",
       "1      -1.256803e-33  1.964473e-33 -1.610920e-34  2.997556e-33  2.701372e-34   \n",
       "2      -7.776122e-34  1.252946e-33 -1.005908e-34  9.087942e-34  6.193247e-35   \n",
       "3      -4.633858e-33  5.962125e-33  5.010227e-35  2.382767e-34  6.413053e-34   \n",
       "4       1.855982e-33 -2.473652e-33  4.712436e-35  1.782836e-34 -1.976308e-34   \n",
       "\n",
       "author          5             6             7             8             9     \\\n",
       "0      -4.793875e-34 -4.695994e-34 -1.232528e-34  1.055014e-33 -1.005412e-17   \n",
       "1      -3.953671e-34  3.186000e-34 -3.660540e-34  6.660114e-34  9.368030e-17   \n",
       "2      -2.115716e-34 -3.795859e-33 -3.549005e-34  3.175654e-34 -1.186213e-17   \n",
       "3      -9.733839e-34 -1.149801e-33 -8.498589e-34  2.235542e-33 -2.657779e-17   \n",
       "4       3.652283e-34  5.387395e-34  5.088808e-34 -8.663879e-34  1.027355e-17   \n",
       "\n",
       "author  ...          4707          4708          4709          4710  \\\n",
       "0       ...  1.136644e-33  1.608428e-33  2.924663e-35  1.649036e-33   \n",
       "1       ... -2.441914e-31  1.228365e-33  3.476966e-34  1.313618e-31   \n",
       "2       ...  2.169266e-32  4.091245e-34  2.740647e-35  1.808003e-32   \n",
       "3       ...  1.506230e-32  3.198650e-33 -9.644923e-35  3.683954e-33   \n",
       "4       ... -8.605890e-33 -1.180227e-33  6.998980e-35 -2.870668e-33   \n",
       "\n",
       "author          4711          4712          4713          4714          4715  \\\n",
       "0       6.156768e-34 -1.491280e-33 -1.984722e-33 -7.014097e-35 -1.074923e-33   \n",
       "1       4.025139e-34 -1.296586e-32 -2.379669e-32  1.875970e-35 -7.377819e-33   \n",
       "2       1.977316e-34  6.385396e-33  9.808713e-33  2.718291e-34 -2.620516e-33   \n",
       "3       1.180748e-33 -3.415395e-33 -5.915033e-33  6.900395e-35 -2.550497e-33   \n",
       "4      -4.185459e-34  1.900303e-33  3.618092e-33 -9.578891e-35  1.143816e-33   \n",
       "\n",
       "author          4716  \n",
       "0       1.522006e-33  \n",
       "1       1.634667e-33  \n",
       "2       9.983885e-34  \n",
       "3       4.137473e-33  \n",
       "4      -1.850582e-33  \n",
       "\n",
       "[5 rows x 4717 columns]"
      ]
     },
     "execution_count": 187,
     "metadata": {},
     "output_type": "execute_result"
    }
   ],
   "source": [
    "df_predict.head()"
   ]
  },
  {
   "cell_type": "markdown",
   "metadata": {},
   "source": [
    " Now creating a function to get predictions with User ID and Number of Recommendations as input and Recommendations as Output.\n"
   ]
  },
  {
   "cell_type": "code",
   "execution_count": 189,
   "metadata": {
    "ExecuteTime": {
     "end_time": "2021-05-20T11:01:20.333136Z",
     "start_time": "2021-05-20T11:01:20.312145Z"
    }
   },
   "outputs": [],
   "source": [
    "def recommend_items(UserID, num_recommendations):\n",
    "      \n",
    "    user_idx = UserID-1 # index starts at 0\n",
    "    \n",
    "    # Get and sort the user's ratings\n",
    "    sorted_user_ratings = pivot_data.iloc[UserID].sort_values(ascending=False)\n",
    "    #sorted_user_ratings\n",
    "    sorted_user_predictions = df_predict.iloc[UserID].sort_values(ascending=False)\n",
    "    #sorted_user_predictions\n",
    "\n",
    "    temp = pd.concat([sorted_user_ratings, sorted_user_predictions], axis=1)\n",
    "    temp.index.name = 'Recommended Items'\n",
    "    temp.columns = ['user_ratings', 'user_predictions']\n",
    "    \n",
    "    temp = temp.loc[temp.user_ratings == 0]   \n",
    "    temp = temp.sort_values('user_predictions', ascending=False)\n",
    "    print('\\nRecommended Products for user(UserID = {}):\\n'.format(UserID))\n",
    "    print(temp.head(num_recommendations))"
   ]
  },
  {
   "cell_type": "markdown",
   "metadata": {},
   "source": [
    "## Testing Recommendations on various users with varying inputs"
   ]
  },
  {
   "cell_type": "code",
   "execution_count": 190,
   "metadata": {
    "ExecuteTime": {
     "end_time": "2021-05-20T11:01:37.478455Z",
     "start_time": "2021-05-20T11:01:37.450471Z"
    }
   },
   "outputs": [
    {
     "name": "stdout",
     "output_type": "stream",
     "text": [
      "\n",
      "Recommended Products for user(UserID = 486):\n",
      "\n",
      "                   user_ratings  user_predictions\n",
      "Recommended Items                                \n",
      "619                         0.0      1.132171e-17\n",
      "1951                        0.0      5.431120e-18\n",
      "224                         0.0      4.324425e-18\n",
      "3961                        0.0      4.066611e-18\n",
      "2629                        0.0      4.066611e-18\n"
     ]
    }
   ],
   "source": [
    "recommend_items(486,5)"
   ]
  },
  {
   "cell_type": "code",
   "execution_count": 191,
   "metadata": {
    "ExecuteTime": {
     "end_time": "2021-05-20T11:01:52.832659Z",
     "start_time": "2021-05-20T11:01:52.805675Z"
    }
   },
   "outputs": [
    {
     "name": "stdout",
     "output_type": "stream",
     "text": [
      "\n",
      "Recommended Products for user(UserID = 832):\n",
      "\n",
      "                   user_ratings  user_predictions\n",
      "Recommended Items                                \n",
      "858                         0.0      3.520503e-16\n",
      "573                         0.0      3.520503e-16\n",
      "2279                        0.0      3.520503e-16\n",
      "3693                        0.0      3.520503e-16\n"
     ]
    }
   ],
   "source": [
    "recommend_items(832,4)"
   ]
  },
  {
   "cell_type": "code",
   "execution_count": 192,
   "metadata": {
    "ExecuteTime": {
     "end_time": "2021-05-20T11:02:05.311510Z",
     "start_time": "2021-05-20T11:02:05.283529Z"
    }
   },
   "outputs": [
    {
     "name": "stdout",
     "output_type": "stream",
     "text": [
      "\n",
      "Recommended Products for user(UserID = 669):\n",
      "\n",
      "                   user_ratings  user_predictions\n",
      "Recommended Items                                \n",
      "619                         0.0      2.913487e-16\n",
      "1951                        0.0      1.272000e-16\n",
      "224                         0.0      1.139220e-16\n",
      "3792                        0.0      1.087699e-16\n",
      "2973                        0.0      1.087699e-16\n",
      "2686                        0.0      1.087699e-16\n",
      "2546                        0.0      1.087699e-16\n"
     ]
    }
   ],
   "source": [
    "recommend_items(669,7)"
   ]
  },
  {
   "cell_type": "markdown",
   "metadata": {},
   "source": [
    "## SVD "
   ]
  },
  {
   "cell_type": "code",
   "execution_count": 193,
   "metadata": {
    "ExecuteTime": {
     "end_time": "2021-05-20T11:02:18.099184Z",
     "start_time": "2021-05-20T11:02:18.058211Z"
    }
   },
   "outputs": [
    {
     "data": {
      "text/html": [
       "<div>\n",
       "<style scoped>\n",
       "    .dataframe tbody tr th:only-of-type {\n",
       "        vertical-align: middle;\n",
       "    }\n",
       "\n",
       "    .dataframe tbody tr th {\n",
       "        vertical-align: top;\n",
       "    }\n",
       "\n",
       "    .dataframe thead th {\n",
       "        text-align: right;\n",
       "    }\n",
       "</style>\n",
       "<table border=\"1\" class=\"dataframe\">\n",
       "  <thead>\n",
       "    <tr style=\"text-align: right;\">\n",
       "      <th></th>\n",
       "      <th>author</th>\n",
       "      <th>country</th>\n",
       "      <th>date</th>\n",
       "      <th>domain</th>\n",
       "      <th>extract</th>\n",
       "      <th>lang</th>\n",
       "      <th>phone_url</th>\n",
       "      <th>product</th>\n",
       "      <th>score</th>\n",
       "      <th>score_max</th>\n",
       "      <th>source</th>\n",
       "    </tr>\n",
       "  </thead>\n",
       "  <tbody>\n",
       "    <tr>\n",
       "      <th>0</th>\n",
       "      <td>CarolAnn35</td>\n",
       "      <td>us</td>\n",
       "      <td>5/2/2017</td>\n",
       "      <td>verizonwireless.com</td>\n",
       "      <td>As a diehard Samsung fan who has had every Sam...</td>\n",
       "      <td>en</td>\n",
       "      <td>/cellphones/samsung-galaxy-s8/</td>\n",
       "      <td>Samsung Galaxy S8</td>\n",
       "      <td>10.0</td>\n",
       "      <td>10.0</td>\n",
       "      <td>Verizon Wireless</td>\n",
       "    </tr>\n",
       "    <tr>\n",
       "      <th>1</th>\n",
       "      <td>james0923</td>\n",
       "      <td>us</td>\n",
       "      <td>4/28/2017</td>\n",
       "      <td>phonearena.com</td>\n",
       "      <td>Love the phone. the phone is sleek and smooth ...</td>\n",
       "      <td>en</td>\n",
       "      <td>/cellphones/samsung-galaxy-s8/</td>\n",
       "      <td>Samsung Galaxy S8</td>\n",
       "      <td>10.0</td>\n",
       "      <td>10.0</td>\n",
       "      <td>Phone Arena</td>\n",
       "    </tr>\n",
       "    <tr>\n",
       "      <th>2</th>\n",
       "      <td>R. Craig</td>\n",
       "      <td>us</td>\n",
       "      <td>5/4/2017</td>\n",
       "      <td>amazon.com</td>\n",
       "      <td>Adequate feel. Nice heft. Processor's still sl...</td>\n",
       "      <td>en</td>\n",
       "      <td>/cellphones/samsung-galaxy-s8/</td>\n",
       "      <td>Samsung Galaxy S8 (64GB) G950U 5.8\" 4G LTE Unl...</td>\n",
       "      <td>6.0</td>\n",
       "      <td>10.0</td>\n",
       "      <td>Amazon</td>\n",
       "    </tr>\n",
       "    <tr>\n",
       "      <th>3</th>\n",
       "      <td>Buster2020</td>\n",
       "      <td>us</td>\n",
       "      <td>5/2/2017</td>\n",
       "      <td>samsung.com</td>\n",
       "      <td>Never disappointed. One of the reasons I've be...</td>\n",
       "      <td>en</td>\n",
       "      <td>/cellphones/samsung-galaxy-s8/</td>\n",
       "      <td>Samsung Galaxy S8 64GB (AT&amp;T)</td>\n",
       "      <td>9.2</td>\n",
       "      <td>10.0</td>\n",
       "      <td>Samsung</td>\n",
       "    </tr>\n",
       "    <tr>\n",
       "      <th>4</th>\n",
       "      <td>S Ate Mine</td>\n",
       "      <td>us</td>\n",
       "      <td>5/11/2017</td>\n",
       "      <td>verizonwireless.com</td>\n",
       "      <td>I've now found that i'm in a group of people t...</td>\n",
       "      <td>en</td>\n",
       "      <td>/cellphones/samsung-galaxy-s8/</td>\n",
       "      <td>Samsung Galaxy S8</td>\n",
       "      <td>4.0</td>\n",
       "      <td>10.0</td>\n",
       "      <td>Verizon Wireless</td>\n",
       "    </tr>\n",
       "  </tbody>\n",
       "</table>\n",
       "</div>"
      ],
      "text/plain": [
       "        author country       date               domain  \\\n",
       "0   CarolAnn35      us   5/2/2017  verizonwireless.com   \n",
       "1    james0923      us  4/28/2017       phonearena.com   \n",
       "2     R. Craig      us   5/4/2017           amazon.com   \n",
       "3  Buster2020       us   5/2/2017          samsung.com   \n",
       "4   S Ate Mine      us  5/11/2017  verizonwireless.com   \n",
       "\n",
       "                                             extract lang  \\\n",
       "0  As a diehard Samsung fan who has had every Sam...   en   \n",
       "1  Love the phone. the phone is sleek and smooth ...   en   \n",
       "2  Adequate feel. Nice heft. Processor's still sl...   en   \n",
       "3  Never disappointed. One of the reasons I've be...   en   \n",
       "4  I've now found that i'm in a group of people t...   en   \n",
       "\n",
       "                        phone_url  \\\n",
       "0  /cellphones/samsung-galaxy-s8/   \n",
       "1  /cellphones/samsung-galaxy-s8/   \n",
       "2  /cellphones/samsung-galaxy-s8/   \n",
       "3  /cellphones/samsung-galaxy-s8/   \n",
       "4  /cellphones/samsung-galaxy-s8/   \n",
       "\n",
       "                                             product  score  score_max  \\\n",
       "0                                  Samsung Galaxy S8   10.0       10.0   \n",
       "1                                  Samsung Galaxy S8   10.0       10.0   \n",
       "2  Samsung Galaxy S8 (64GB) G950U 5.8\" 4G LTE Unl...    6.0       10.0   \n",
       "3                      Samsung Galaxy S8 64GB (AT&T)    9.2       10.0   \n",
       "4                                  Samsung Galaxy S8    4.0       10.0   \n",
       "\n",
       "             source  \n",
       "0  Verizon Wireless  \n",
       "1       Phone Arena  \n",
       "2            Amazon  \n",
       "3           Samsung  \n",
       "4  Verizon Wireless  "
      ]
     },
     "execution_count": 193,
     "metadata": {},
     "output_type": "execute_result"
    }
   ],
   "source": [
    "df3.head()"
   ]
  },
  {
   "cell_type": "code",
   "execution_count": 194,
   "metadata": {
    "ExecuteTime": {
     "end_time": "2021-05-20T11:03:24.985886Z",
     "start_time": "2021-05-20T11:03:24.906932Z"
    }
   },
   "outputs": [],
   "source": [
    "# Dropping features other than Author, Product and Score\n",
    "df3.drop(df3.columns.difference(['author','product','score']),inplace=True,axis=1)"
   ]
  },
  {
   "cell_type": "code",
   "execution_count": 195,
   "metadata": {
    "ExecuteTime": {
     "end_time": "2021-05-20T11:03:37.586669Z",
     "start_time": "2021-05-20T11:03:37.557685Z"
    }
   },
   "outputs": [
    {
     "data": {
      "text/html": [
       "<div>\n",
       "<style scoped>\n",
       "    .dataframe tbody tr th:only-of-type {\n",
       "        vertical-align: middle;\n",
       "    }\n",
       "\n",
       "    .dataframe tbody tr th {\n",
       "        vertical-align: top;\n",
       "    }\n",
       "\n",
       "    .dataframe thead th {\n",
       "        text-align: right;\n",
       "    }\n",
       "</style>\n",
       "<table border=\"1\" class=\"dataframe\">\n",
       "  <thead>\n",
       "    <tr style=\"text-align: right;\">\n",
       "      <th></th>\n",
       "      <th>author</th>\n",
       "      <th>product</th>\n",
       "      <th>score</th>\n",
       "    </tr>\n",
       "  </thead>\n",
       "  <tbody>\n",
       "    <tr>\n",
       "      <th>0</th>\n",
       "      <td>CarolAnn35</td>\n",
       "      <td>Samsung Galaxy S8</td>\n",
       "      <td>10.0</td>\n",
       "    </tr>\n",
       "    <tr>\n",
       "      <th>1</th>\n",
       "      <td>james0923</td>\n",
       "      <td>Samsung Galaxy S8</td>\n",
       "      <td>10.0</td>\n",
       "    </tr>\n",
       "    <tr>\n",
       "      <th>2</th>\n",
       "      <td>R. Craig</td>\n",
       "      <td>Samsung Galaxy S8 (64GB) G950U 5.8\" 4G LTE Unl...</td>\n",
       "      <td>6.0</td>\n",
       "    </tr>\n",
       "    <tr>\n",
       "      <th>3</th>\n",
       "      <td>Buster2020</td>\n",
       "      <td>Samsung Galaxy S8 64GB (AT&amp;T)</td>\n",
       "      <td>9.2</td>\n",
       "    </tr>\n",
       "    <tr>\n",
       "      <th>4</th>\n",
       "      <td>S Ate Mine</td>\n",
       "      <td>Samsung Galaxy S8</td>\n",
       "      <td>4.0</td>\n",
       "    </tr>\n",
       "  </tbody>\n",
       "</table>\n",
       "</div>"
      ],
      "text/plain": [
       "        author                                            product  score\n",
       "0   CarolAnn35                                  Samsung Galaxy S8   10.0\n",
       "1    james0923                                  Samsung Galaxy S8   10.0\n",
       "2     R. Craig  Samsung Galaxy S8 (64GB) G950U 5.8\" 4G LTE Unl...    6.0\n",
       "3  Buster2020                       Samsung Galaxy S8 64GB (AT&T)    9.2\n",
       "4   S Ate Mine                                  Samsung Galaxy S8    4.0"
      ]
     },
     "execution_count": 195,
     "metadata": {},
     "output_type": "execute_result"
    }
   ],
   "source": [
    "df3.head()"
   ]
  },
  {
   "cell_type": "code",
   "execution_count": 196,
   "metadata": {
    "ExecuteTime": {
     "end_time": "2021-05-20T11:03:50.339362Z",
     "start_time": "2021-05-20T11:03:49.944591Z"
    }
   },
   "outputs": [
    {
     "data": {
      "text/html": [
       "<div>\n",
       "<style scoped>\n",
       "    .dataframe tbody tr th:only-of-type {\n",
       "        vertical-align: middle;\n",
       "    }\n",
       "\n",
       "    .dataframe tbody tr th {\n",
       "        vertical-align: top;\n",
       "    }\n",
       "\n",
       "    .dataframe thead th {\n",
       "        text-align: right;\n",
       "    }\n",
       "</style>\n",
       "<table border=\"1\" class=\"dataframe\">\n",
       "  <thead>\n",
       "    <tr style=\"text-align: right;\">\n",
       "      <th></th>\n",
       "      <th>product</th>\n",
       "      <th>score</th>\n",
       "    </tr>\n",
       "  </thead>\n",
       "  <tbody>\n",
       "    <tr>\n",
       "      <th>23698</th>\n",
       "      <td>Lenovo Vibe K4 Note (White,16GB)</td>\n",
       "      <td>5226</td>\n",
       "    </tr>\n",
       "    <tr>\n",
       "      <th>23697</th>\n",
       "      <td>Lenovo Vibe K4 Note (Black, 16GB)</td>\n",
       "      <td>4390</td>\n",
       "    </tr>\n",
       "    <tr>\n",
       "      <th>34801</th>\n",
       "      <td>OnePlus 3 (Graphite, 64 GB)</td>\n",
       "      <td>4103</td>\n",
       "    </tr>\n",
       "    <tr>\n",
       "      <th>34802</th>\n",
       "      <td>OnePlus 3 (Soft Gold, 64 GB)</td>\n",
       "      <td>3563</td>\n",
       "    </tr>\n",
       "    <tr>\n",
       "      <th>17134</th>\n",
       "      <td>Huawei P8lite zwart / 16 GB</td>\n",
       "      <td>2707</td>\n",
       "    </tr>\n",
       "    <tr>\n",
       "      <th>23701</th>\n",
       "      <td>Lenovo Vibe K5 (Gold, VoLTE update)</td>\n",
       "      <td>2534</td>\n",
       "    </tr>\n",
       "    <tr>\n",
       "      <th>44664</th>\n",
       "      <td>Samsung Galaxy S6 zwart / 32 GB</td>\n",
       "      <td>2345</td>\n",
       "    </tr>\n",
       "    <tr>\n",
       "      <th>23703</th>\n",
       "      <td>Lenovo Vibe K5 (Grey, VoLTE update)</td>\n",
       "      <td>2108</td>\n",
       "    </tr>\n",
       "    <tr>\n",
       "      <th>30658</th>\n",
       "      <td>Nokia 5800 XpressMusic</td>\n",
       "      <td>2070</td>\n",
       "    </tr>\n",
       "    <tr>\n",
       "      <th>23662</th>\n",
       "      <td>Lenovo Used Lenovo Zuk Z1 (Space Grey, 64GB)</td>\n",
       "      <td>1952</td>\n",
       "    </tr>\n",
       "  </tbody>\n",
       "</table>\n",
       "</div>"
      ],
      "text/plain": [
       "                                            product  score\n",
       "23698              Lenovo Vibe K4 Note (White,16GB)   5226\n",
       "23697             Lenovo Vibe K4 Note (Black, 16GB)   4390\n",
       "34801                   OnePlus 3 (Graphite, 64 GB)   4103\n",
       "34802                  OnePlus 3 (Soft Gold, 64 GB)   3563\n",
       "17134                   Huawei P8lite zwart / 16 GB   2707\n",
       "23701           Lenovo Vibe K5 (Gold, VoLTE update)   2534\n",
       "44664               Samsung Galaxy S6 zwart / 32 GB   2345\n",
       "23703           Lenovo Vibe K5 (Grey, VoLTE update)   2108\n",
       "30658                        Nokia 5800 XpressMusic   2070\n",
       "23662  Lenovo Used Lenovo Zuk Z1 (Space Grey, 64GB)   1952"
      ]
     },
     "execution_count": 196,
     "metadata": {},
     "output_type": "execute_result"
    }
   ],
   "source": [
    "# Identifying the most rated products\n",
    "df3.groupby('product')['score'].count().reset_index().sort_values('score', ascending=False)[:10]"
   ]
  },
  {
   "cell_type": "code",
   "execution_count": 197,
   "metadata": {
    "ExecuteTime": {
     "end_time": "2021-05-20T11:04:06.875890Z",
     "start_time": "2021-05-20T11:04:03.133034Z"
    }
   },
   "outputs": [
    {
     "data": {
      "text/html": [
       "<div>\n",
       "<style scoped>\n",
       "    .dataframe tbody tr th:only-of-type {\n",
       "        vertical-align: middle;\n",
       "    }\n",
       "\n",
       "    .dataframe tbody tr th {\n",
       "        vertical-align: top;\n",
       "    }\n",
       "\n",
       "    .dataframe thead th {\n",
       "        text-align: right;\n",
       "    }\n",
       "</style>\n",
       "<table border=\"1\" class=\"dataframe\">\n",
       "  <thead>\n",
       "    <tr style=\"text-align: right;\">\n",
       "      <th></th>\n",
       "      <th>author</th>\n",
       "      <th>score</th>\n",
       "    </tr>\n",
       "  </thead>\n",
       "  <tbody>\n",
       "    <tr>\n",
       "      <th>30408</th>\n",
       "      <td>Amazon Customer</td>\n",
       "      <td>76978</td>\n",
       "    </tr>\n",
       "    <tr>\n",
       "      <th>97098</th>\n",
       "      <td>Cliente Amazon</td>\n",
       "      <td>19304</td>\n",
       "    </tr>\n",
       "    <tr>\n",
       "      <th>576241</th>\n",
       "      <td>e-bit</td>\n",
       "      <td>8663</td>\n",
       "    </tr>\n",
       "    <tr>\n",
       "      <th>97069</th>\n",
       "      <td>Client d'Amazon</td>\n",
       "      <td>7716</td>\n",
       "    </tr>\n",
       "    <tr>\n",
       "      <th>30847</th>\n",
       "      <td>Amazon Kunde</td>\n",
       "      <td>4750</td>\n",
       "    </tr>\n",
       "    <tr>\n",
       "      <th>41621</th>\n",
       "      <td>Anonymous</td>\n",
       "      <td>2746</td>\n",
       "    </tr>\n",
       "    <tr>\n",
       "      <th>578127</th>\n",
       "      <td>einer Kundin</td>\n",
       "      <td>2610</td>\n",
       "    </tr>\n",
       "    <tr>\n",
       "      <th>578124</th>\n",
       "      <td>einem Kunden</td>\n",
       "      <td>1898</td>\n",
       "    </tr>\n",
       "    <tr>\n",
       "      <th>749930</th>\n",
       "      <td>unknown</td>\n",
       "      <td>1738</td>\n",
       "    </tr>\n",
       "    <tr>\n",
       "      <th>41622</th>\n",
       "      <td>Anonymous</td>\n",
       "      <td>1461</td>\n",
       "    </tr>\n",
       "  </tbody>\n",
       "</table>\n",
       "</div>"
      ],
      "text/plain": [
       "                 author  score\n",
       "30408   Amazon Customer  76978\n",
       "97098    Cliente Amazon  19304\n",
       "576241            e-bit   8663\n",
       "97069   Client d'Amazon   7716\n",
       "30847      Amazon Kunde   4750\n",
       "41621         Anonymous   2746\n",
       "578127     einer Kundin   2610\n",
       "578124     einem Kunden   1898\n",
       "749930          unknown   1738\n",
       "41622        Anonymous    1461"
      ]
     },
     "execution_count": 197,
     "metadata": {},
     "output_type": "execute_result"
    }
   ],
   "source": [
    "# Identifying the users with most reviews\n",
    "\n",
    "df3.groupby('author')['score'].count().reset_index().sort_values('score', ascending=False)[:10]"
   ]
  },
  {
   "cell_type": "code",
   "execution_count": 198,
   "metadata": {
    "ExecuteTime": {
     "end_time": "2021-05-20T11:04:21.111735Z",
     "start_time": "2021-05-20T11:04:19.771502Z"
    }
   },
   "outputs": [
    {
     "name": "stdout",
     "output_type": "stream",
     "text": [
      "The original data frame shape:\t(1415133, 3)\n",
      "The new data frame shape:\t(175577, 3)\n"
     ]
    }
   ],
   "source": [
    "# Downsampling the dataset with top 50 users and top 50 products sorted with 'Ratings'\n",
    "min_ratings = 50\n",
    "filter_products = df3['product'].value_counts() > min_ratings\n",
    "filter_products = filter_products[filter_products].index.tolist()\n",
    "\n",
    "min_user_ratings = 50\n",
    "filter_users = df3['author'].value_counts() > min_user_ratings\n",
    "filter_users = filter_users[filter_users].index.tolist()\n",
    "\n",
    "df_new = df3[(df3['product'].isin(filter_products)) & (df3['author'].isin(filter_users))]\n",
    "print('The original data frame shape:\\t{}'.format(df3.shape))\n",
    "print('The new data frame shape:\\t{}'.format(df_new.shape))"
   ]
  },
  {
   "cell_type": "code",
   "execution_count": 199,
   "metadata": {
    "ExecuteTime": {
     "end_time": "2021-05-20T11:07:15.139567Z",
     "start_time": "2021-05-20T11:07:14.831705Z"
    }
   },
   "outputs": [],
   "source": [
    "# Loading Dataset for Surprise and assigning Rating on a scale of 1-10.\n",
    "reader = Reader(rating_scale=(1,10))\n",
    "data = Dataset.load_from_df(df_new[['author', 'product', 'score']], reader)"
   ]
  },
  {
   "cell_type": "markdown",
   "metadata": {},
   "source": [
    "### Building a collaborative filtering model using kNNWithMeans from surprise. "
   ]
  },
  {
   "cell_type": "code",
   "execution_count": 200,
   "metadata": {
    "ExecuteTime": {
     "end_time": "2021-05-20T11:09:51.207947Z",
     "start_time": "2021-05-20T11:07:27.338761Z"
    }
   },
   "outputs": [
    {
     "name": "stdout",
     "output_type": "stream",
     "text": [
      "Computing the msd similarity matrix...\n",
      "Done computing similarity matrix.\n",
      "Computing the msd similarity matrix...\n",
      "Done computing similarity matrix.\n",
      "Computing the msd similarity matrix...\n",
      "Done computing similarity matrix.\n",
      "Computing the msd similarity matrix...\n",
      "Done computing similarity matrix.\n",
      "Computing the msd similarity matrix...\n",
      "Done computing similarity matrix.\n"
     ]
    },
    {
     "data": {
      "text/html": [
       "<div>\n",
       "<style scoped>\n",
       "    .dataframe tbody tr th:only-of-type {\n",
       "        vertical-align: middle;\n",
       "    }\n",
       "\n",
       "    .dataframe tbody tr th {\n",
       "        vertical-align: top;\n",
       "    }\n",
       "\n",
       "    .dataframe thead th {\n",
       "        text-align: right;\n",
       "    }\n",
       "</style>\n",
       "<table border=\"1\" class=\"dataframe\">\n",
       "  <thead>\n",
       "    <tr style=\"text-align: right;\">\n",
       "      <th></th>\n",
       "      <th>test_rmse</th>\n",
       "      <th>fit_time</th>\n",
       "      <th>test_time</th>\n",
       "    </tr>\n",
       "    <tr>\n",
       "      <th>Algorithm</th>\n",
       "      <th></th>\n",
       "      <th></th>\n",
       "      <th></th>\n",
       "    </tr>\n",
       "  </thead>\n",
       "  <tbody>\n",
       "    <tr>\n",
       "      <th>SVD</th>\n",
       "      <td>NaN</td>\n",
       "      <td>14.192789</td>\n",
       "      <td>0.527698</td>\n",
       "    </tr>\n",
       "    <tr>\n",
       "      <th>KNNWithMeans</th>\n",
       "      <td>NaN</td>\n",
       "      <td>2.694651</td>\n",
       "      <td>10.454016</td>\n",
       "    </tr>\n",
       "  </tbody>\n",
       "</table>\n",
       "</div>"
      ],
      "text/plain": [
       "              test_rmse   fit_time  test_time\n",
       "Algorithm                                    \n",
       "SVD                 NaN  14.192789   0.527698\n",
       "KNNWithMeans        NaN   2.694651  10.454016"
      ]
     },
     "execution_count": 200,
     "metadata": {},
     "output_type": "execute_result"
    }
   ],
   "source": [
    "# Applying SVD and KNN with Means with 20 means algorithm to recommend\n",
    "# Applying k-fold cross validation with 5 folds to achieve better performance\n",
    " \n",
    "benchmark = []\n",
    "# Iterating over all the algorithms\n",
    "for algorithm in [SVD(), KNNWithMeans(k=20)]:\n",
    "    # Performing cross validation\n",
    "    results = cross_validate(algorithm, data, measures=['RMSE'], cv=5, verbose=False)\n",
    "    \n",
    "    # for getting results and appending the algorithm name\n",
    "    tmp = pd.DataFrame.from_dict(results).mean(axis=0)\n",
    "    tmp = tmp.append(pd.Series([str(algorithm).split(' ')[0].split('.')[-1]], index=['Algorithm']))\n",
    "    benchmark.append(tmp)\n",
    "    \n",
    "pd.DataFrame(benchmark).set_index('Algorithm').sort_values('test_rmse') "
   ]
  },
  {
   "cell_type": "markdown",
   "metadata": {},
   "source": [
    "### Evaluating the collaborative model and Printing RMSE value."
   ]
  },
  {
   "cell_type": "code",
   "execution_count": 201,
   "metadata": {
    "ExecuteTime": {
     "end_time": "2021-05-20T11:10:31.280199Z",
     "start_time": "2021-05-20T11:10:14.606475Z"
    }
   },
   "outputs": [
    {
     "name": "stdout",
     "output_type": "stream",
     "text": [
      "RMSE: nan\n"
     ]
    },
    {
     "data": {
      "text/plain": [
       "nan"
      ]
     },
     "execution_count": 201,
     "metadata": {},
     "output_type": "execute_result"
    }
   ],
   "source": [
    "trainset, testset = train_test_split(data, test_size=0.25)\n",
    "algo_svd = SVD()\n",
    "predictions = algo_svd.fit(trainset).test(testset)\n",
    "accuracy.rmse(predictions)"
   ]
  },
  {
   "cell_type": "markdown",
   "metadata": {},
   "source": [
    "### Predicting average rating for test users."
   ]
  },
  {
   "cell_type": "code",
   "execution_count": 212,
   "metadata": {
    "ExecuteTime": {
     "end_time": "2021-05-20T11:14:58.669103Z",
     "start_time": "2021-05-20T11:14:58.652125Z"
    }
   },
   "outputs": [],
   "source": [
    "test_author = 'Amazon Customer'\n",
    "test_product = 'OnePlus 3 (Graphite, 64 GB)'"
   ]
  },
  {
   "cell_type": "code",
   "execution_count": 213,
   "metadata": {
    "ExecuteTime": {
     "end_time": "2021-05-20T11:15:08.035189Z",
     "start_time": "2021-05-20T11:15:08.022197Z"
    }
   },
   "outputs": [],
   "source": [
    "# Predicting score for random user and random product \n",
    "svd_test = algo_svd.predict(test_author,test_product)"
   ]
  },
  {
   "cell_type": "code",
   "execution_count": 214,
   "metadata": {
    "ExecuteTime": {
     "end_time": "2021-05-20T11:15:33.272769Z",
     "start_time": "2021-05-20T11:15:16.922646Z"
    }
   },
   "outputs": [
    {
     "name": "stdout",
     "output_type": "stream",
     "text": [
      "Computing the msd similarity matrix...\n",
      "Done computing similarity matrix.\n",
      "RMSE: nan\n"
     ]
    },
    {
     "data": {
      "text/plain": [
       "nan"
      ]
     },
     "execution_count": 214,
     "metadata": {},
     "output_type": "execute_result"
    }
   ],
   "source": [
    "# Applying Knn with Means(k=30)\n",
    "trainset, testset = train_test_split(data, test_size=0.25)\n",
    "algo_knn = KNNWithMeans(k=30)\n",
    "predictions = algo_knn.fit(trainset).test(testset)\n",
    "accuracy.rmse(predictions)"
   ]
  },
  {
   "cell_type": "code",
   "execution_count": 215,
   "metadata": {
    "ExecuteTime": {
     "end_time": "2021-05-20T11:15:41.654922Z",
     "start_time": "2021-05-20T11:15:41.645925Z"
    }
   },
   "outputs": [],
   "source": [
    "# Predicting score for random user and random product \n",
    "knn_test = algo_knn.predict(test_author,test_product)"
   ]
  },
  {
   "cell_type": "markdown",
   "metadata": {},
   "source": [
    "### Recommending top 5 products for test users."
   ]
  },
  {
   "cell_type": "code",
   "execution_count": 207,
   "metadata": {
    "ExecuteTime": {
     "end_time": "2021-05-20T11:12:43.320224Z",
     "start_time": "2021-05-20T11:12:43.016746Z"
    }
   },
   "outputs": [],
   "source": [
    "#  Function to return number of items rated by given user \n",
    "\n",
    "def get_Iu(uid):\n",
    "    try:\n",
    "        return len(trainset.ur[trainset.to_inner_uid(uid)])\n",
    "    except ValueError:\n",
    "        return 0\n",
    "       \n",
    "# Function to return number of users that have rated given item\n",
    "\n",
    "def get_Ui(iid):\n",
    "    try: \n",
    "        return len(trainset.ir[trainset.to_inner_iid(iid)])\n",
    "    except ValueError:\n",
    "        return 0\n",
    "        \n",
    " # Getting Top Predictions based upon Error between Actual and predicted   \n",
    "df5 = pd.DataFrame(predictions, columns=['uid', 'iid', 'rui', 'est', 'details'])\n",
    "df5['Iu'] = df5.uid.apply(get_Iu)\n",
    "df5['Ui'] = df5.iid.apply(get_Ui)\n",
    "df5['err'] = abs(df5.est - df5.rui)\n",
    "best_predictions = df5.sort_values(by='err')[:5]"
   ]
  },
  {
   "cell_type": "code",
   "execution_count": 208,
   "metadata": {
    "ExecuteTime": {
     "end_time": "2021-05-20T11:13:12.039306Z",
     "start_time": "2021-05-20T11:13:12.017322Z"
    }
   },
   "outputs": [
    {
     "data": {
      "text/html": [
       "<div>\n",
       "<style scoped>\n",
       "    .dataframe tbody tr th:only-of-type {\n",
       "        vertical-align: middle;\n",
       "    }\n",
       "\n",
       "    .dataframe tbody tr th {\n",
       "        vertical-align: top;\n",
       "    }\n",
       "\n",
       "    .dataframe thead th {\n",
       "        text-align: right;\n",
       "    }\n",
       "</style>\n",
       "<table border=\"1\" class=\"dataframe\">\n",
       "  <thead>\n",
       "    <tr style=\"text-align: right;\">\n",
       "      <th></th>\n",
       "      <th>uid</th>\n",
       "      <th>iid</th>\n",
       "      <th>rui</th>\n",
       "      <th>est</th>\n",
       "      <th>details</th>\n",
       "      <th>Iu</th>\n",
       "      <th>Ui</th>\n",
       "      <th>err</th>\n",
       "    </tr>\n",
       "  </thead>\n",
       "  <tbody>\n",
       "    <tr>\n",
       "      <th>23000</th>\n",
       "      <td>davide</td>\n",
       "      <td>Asus ZenFone Max Smartphone, Schermo da 5.5\" H...</td>\n",
       "      <td>10.0</td>\n",
       "      <td>10.0</td>\n",
       "      <td>{'actual_k': 29, 'was_impossible': False}</td>\n",
       "      <td>84</td>\n",
       "      <td>87</td>\n",
       "      <td>0.0</td>\n",
       "    </tr>\n",
       "    <tr>\n",
       "      <th>18257</th>\n",
       "      <td>Ð®ÑÐ¸Ð¹</td>\n",
       "      <td>Sony Xperia Z1 (ÑÐµÑÐ½ÑÐ¹)</td>\n",
       "      <td>10.0</td>\n",
       "      <td>10.0</td>\n",
       "      <td>{'actual_k': 0, 'was_impossible': False}</td>\n",
       "      <td>103</td>\n",
       "      <td>133</td>\n",
       "      <td>0.0</td>\n",
       "    </tr>\n",
       "    <tr>\n",
       "      <th>9693</th>\n",
       "      <td>Simone</td>\n",
       "      <td>Samsung Galaxy J5 Smartphone, Bianco [Italia]</td>\n",
       "      <td>10.0</td>\n",
       "      <td>10.0</td>\n",
       "      <td>{'actual_k': 30, 'was_impossible': False}</td>\n",
       "      <td>166</td>\n",
       "      <td>44</td>\n",
       "      <td>0.0</td>\n",
       "    </tr>\n",
       "    <tr>\n",
       "      <th>18256</th>\n",
       "      <td>Stefano</td>\n",
       "      <td>Honor 6+ Smartphone, 4G LTE, Dual SIM, Display...</td>\n",
       "      <td>10.0</td>\n",
       "      <td>10.0</td>\n",
       "      <td>{'actual_k': 19, 'was_impossible': False}</td>\n",
       "      <td>200</td>\n",
       "      <td>23</td>\n",
       "      <td>0.0</td>\n",
       "    </tr>\n",
       "    <tr>\n",
       "      <th>18255</th>\n",
       "      <td>Client d'Amazon</td>\n",
       "      <td>Microsoft Lumia 435 Smartphone dÃ©bloquÃ© 3G+ ...</td>\n",
       "      <td>10.0</td>\n",
       "      <td>10.0</td>\n",
       "      <td>{'actual_k': 13, 'was_impossible': False}</td>\n",
       "      <td>3512</td>\n",
       "      <td>13</td>\n",
       "      <td>0.0</td>\n",
       "    </tr>\n",
       "  </tbody>\n",
       "</table>\n",
       "</div>"
      ],
      "text/plain": [
       "                   uid                                                iid  \\\n",
       "23000           davide  Asus ZenFone Max Smartphone, Schermo da 5.5\" H...   \n",
       "18257         Ð®ÑÐ¸Ð¹                      Sony Xperia Z1 (ÑÐµÑÐ½ÑÐ¹)   \n",
       "9693            Simone      Samsung Galaxy J5 Smartphone, Bianco [Italia]   \n",
       "18256          Stefano  Honor 6+ Smartphone, 4G LTE, Dual SIM, Display...   \n",
       "18255  Client d'Amazon  Microsoft Lumia 435 Smartphone dÃ©bloquÃ© 3G+ ...   \n",
       "\n",
       "        rui   est                                    details    Iu   Ui  err  \n",
       "23000  10.0  10.0  {'actual_k': 29, 'was_impossible': False}    84   87  0.0  \n",
       "18257  10.0  10.0   {'actual_k': 0, 'was_impossible': False}   103  133  0.0  \n",
       "9693   10.0  10.0  {'actual_k': 30, 'was_impossible': False}   166   44  0.0  \n",
       "18256  10.0  10.0  {'actual_k': 19, 'was_impossible': False}   200   23  0.0  \n",
       "18255  10.0  10.0  {'actual_k': 13, 'was_impossible': False}  3512   13  0.0  "
      ]
     },
     "execution_count": 208,
     "metadata": {},
     "output_type": "execute_result"
    }
   ],
   "source": [
    "best_predictions"
   ]
  },
  {
   "cell_type": "code",
   "execution_count": 209,
   "metadata": {
    "ExecuteTime": {
     "end_time": "2021-05-20T11:13:24.137062Z",
     "start_time": "2021-05-20T11:13:24.124070Z"
    }
   },
   "outputs": [
    {
     "data": {
      "text/plain": [
       "168"
      ]
     },
     "execution_count": 209,
     "metadata": {},
     "output_type": "execute_result"
    }
   ],
   "source": [
    "# Verifying output from Function get_Ui\n",
    "get_Ui('Smartphone LG K10 K430TV')"
   ]
  },
  {
   "cell_type": "code",
   "execution_count": 210,
   "metadata": {
    "ExecuteTime": {
     "end_time": "2021-05-20T11:13:35.028352Z",
     "start_time": "2021-05-20T11:13:35.012790Z"
    }
   },
   "outputs": [
    {
     "data": {
      "text/plain": [
       "46452"
      ]
     },
     "execution_count": 210,
     "metadata": {},
     "output_type": "execute_result"
    }
   ],
   "source": [
    "# Verifying output from Function getIu\n",
    "get_Iu('Amazon Customer')\n"
   ]
  },
  {
   "cell_type": "markdown",
   "metadata": {},
   "source": [
    "### In what business scenario should you use Popularity Based Recommendation system?"
   ]
  },
  {
   "cell_type": "markdown",
   "metadata": {},
   "source": [
    "We should use Popularity Based Recommendation system in rating businesses like rotten tomatoes or imdb because the popularity based recommendation system doesn't suffer from the cold start problem i.e. even if we're just starting with a business we can use this recommendation system as it can recommend products on various different stages of filtering and there's also no need of a user's past or historical data."
   ]
  },
  {
   "cell_type": "markdown",
   "metadata": {},
   "source": [
    "### In what business scenario you should use CF based Recommendation Systems?"
   ]
  },
  {
   "cell_type": "markdown",
   "metadata": {},
   "source": [
    "We can use CF based Recommendation systems for businesses which require dealing with large amounts of data regarding user and products. We can use - user based or item based recommendation. like - flipkart, jio store"
   ]
  },
  {
   "cell_type": "code",
   "execution_count": null,
   "metadata": {},
   "outputs": [],
   "source": []
  }
 ],
 "metadata": {
  "hide_input": false,
  "kernelspec": {
   "display_name": "Python 3",
   "language": "python",
   "name": "python3"
  },
  "language_info": {
   "codemirror_mode": {
    "name": "ipython",
    "version": 3
   },
   "file_extension": ".py",
   "mimetype": "text/x-python",
   "name": "python",
   "nbconvert_exporter": "python",
   "pygments_lexer": "ipython3",
   "version": "3.8.8"
  },
  "latex_envs": {
   "LaTeX_envs_menu_present": true,
   "autoclose": true,
   "autocomplete": true,
   "bibliofile": "biblio.bib",
   "cite_by": "apalike",
   "current_citInitial": 1,
   "eqLabelWithNumbers": true,
   "eqNumInitial": 1,
   "hotkeys": {
    "equation": "Ctrl-E",
    "itemize": "Ctrl-I"
   },
   "labels_anchors": false,
   "latex_user_defs": false,
   "report_style_numbering": false,
   "user_envs_cfg": false
  },
  "nbTranslate": {
   "displayLangs": [
    "*"
   ],
   "hotkey": "alt-t",
   "langInMainMenu": true,
   "sourceLang": "en",
   "targetLang": "fr",
   "useGoogleTranslate": true
  },
  "toc": {
   "base_numbering": 1,
   "nav_menu": {},
   "number_sections": true,
   "sideBar": true,
   "skip_h1_title": false,
   "title_cell": "Table of Contents",
   "title_sidebar": "Contents",
   "toc_cell": false,
   "toc_position": {
    "height": "calc(100% - 180px)",
    "left": "10px",
    "top": "150px",
    "width": "212.188px"
   },
   "toc_section_display": true,
   "toc_window_display": true
  },
  "varInspector": {
   "cols": {
    "lenName": 16,
    "lenType": 16,
    "lenVar": 40
   },
   "kernels_config": {
    "python": {
     "delete_cmd_postfix": "",
     "delete_cmd_prefix": "del ",
     "library": "var_list.py",
     "varRefreshCmd": "print(var_dic_list())"
    },
    "r": {
     "delete_cmd_postfix": ") ",
     "delete_cmd_prefix": "rm(",
     "library": "var_list.r",
     "varRefreshCmd": "cat(var_dic_list()) "
    }
   },
   "position": {
    "height": "144px",
    "left": "996px",
    "right": "20px",
    "top": "119px",
    "width": "350px"
   },
   "types_to_exclude": [
    "module",
    "function",
    "builtin_function_or_method",
    "instance",
    "_Feature"
   ],
   "window_display": false
  }
 },
 "nbformat": 4,
 "nbformat_minor": 4
}
